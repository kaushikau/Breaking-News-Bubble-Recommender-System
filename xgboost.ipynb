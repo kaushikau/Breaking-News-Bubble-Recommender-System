{
 "cells": [
  {
   "cell_type": "markdown",
   "id": "1e447451-c198-40d9-ba2d-d4bdb8f02b6f",
   "metadata": {},
   "source": [
    "# Feature Engineering + XGBoost"
   ]
  },
  {
   "cell_type": "code",
   "execution_count": 137,
   "id": "853fddf0-e98d-4c82-8d4d-06e9782a50ad",
   "metadata": {},
   "outputs": [],
   "source": [
    "# import necessary libraries\n",
    "import pandas as pd\n",
    "import numpy as np\n",
    "import matplotlib.pyplot as plt\n",
    "import json\n",
    "\n",
    "from xgboost import XGBClassifier as xgb\n",
    "from sklearn.preprocessing import OneHotEncoder\n",
    "from sentence_transformers import SentenceTransformer\n",
    "from sklearn.decomposition import PCA\n",
    "\n",
    "from sklearn.metrics import confusion_matrix, accuracy_score, precision_score, recall_score, f1_score, average_precision_score, roc_auc_score\n",
    "from sklearn.metrics import make_scorer\n",
    "from sklearn.model_selection import RandomizedSearchCV"
   ]
  },
  {
   "cell_type": "markdown",
   "id": "4a11a586-14a8-4558-9e18-bcfc85f37d51",
   "metadata": {},
   "source": [
    "## Import Data"
   ]
  },
  {
   "cell_type": "code",
   "execution_count": 138,
   "id": "c4e7a0f1-1aa4-42b5-9a6c-1a81f7a335e5",
   "metadata": {},
   "outputs": [],
   "source": [
    "# change directory if data is in a different folder\n",
    "import os\n",
    "os.chdir(\"C:/Users/tanmb/Downloads/SJSU/CMPE_256/project/project_data\")"
   ]
  },
  {
   "cell_type": "code",
   "execution_count": 139,
   "id": "78ba3434-99a8-4b03-bf67-c9efecca5839",
   "metadata": {},
   "outputs": [],
   "source": [
    "train_clicked = pd.read_csv('full_train_clicked.csv')\n",
    "train_not_clicked = pd.read_csv('full_train_not_clicked.csv')\n",
    "val_clicked = pd.read_csv('full_val_clicked.csv')\n",
    "val_not_clicked = pd.read_csv('full_val_not_clicked.csv')\n",
    "\n",
    "news_data = pd.read_csv('full_news.csv')"
   ]
  },
  {
   "cell_type": "code",
   "execution_count": 140,
   "id": "3f62f257-40db-4301-b5e0-d9137c6f7f16",
   "metadata": {},
   "outputs": [],
   "source": [
    "train = pd.concat([train_clicked, train_not_clicked]).sort_values(by = ['user_id', 'timestamp'])\n",
    "val = pd.concat([val_clicked, val_not_clicked]).sort_values(by = ['user_id', 'timestamp'])"
   ]
  },
  {
   "cell_type": "markdown",
   "id": "84249702",
   "metadata": {},
   "source": [
    "## Data Exploration"
   ]
  },
  {
   "cell_type": "code",
   "execution_count": null,
   "id": "66bf965b-d4bf-4349-b9ed-91e7d74eb1a3",
   "metadata": {
    "scrolled": true
   },
   "outputs": [],
   "source": [
    "train_users = train['user_id'].unique()\n",
    "val_users = val['user_id'].unique()\n",
    "\n",
    "intersection = list(set(train_users).intersection(val_users))\n",
    "len(intersection)"
   ]
  },
  {
   "cell_type": "code",
   "execution_count": null,
   "id": "ae6bd91a",
   "metadata": {},
   "outputs": [],
   "source": [
    "print(\"Shape: \", train.shape)\n",
    "print(\"Duplicates:\", train.duplicated().sum())\n",
    "print(\"Missing values:\", train.isna().sum().sum())\n",
    "train.head()"
   ]
  },
  {
   "cell_type": "code",
   "execution_count": null,
   "id": "6a13f9c5",
   "metadata": {},
   "outputs": [],
   "source": [
    "print(\"Shape: \", val.shape)\n",
    "print(\"Duplicates:\", val.duplicated().sum())\n",
    "print(\"Missing values:\", val.isna().sum().sum())\n",
    "val.head()"
   ]
  },
  {
   "cell_type": "code",
   "execution_count": null,
   "id": "ae7eb276",
   "metadata": {},
   "outputs": [],
   "source": [
    "print(\"Duplicate articles:\", news_data.duplicated().sum())\n",
    "print(\"Duplicate titles:\", news_data['title'].duplicated().sum())\n",
    "print(\"Duplicate abstracts:\", news_data['abstract'].duplicated().sum())\n",
    "print(\"Empty titles:\", news_data['title'].isna().sum())\n",
    "print(\"Empty abstracts:\", news_data['abstract'].isna().sum())\n",
    "news_data.head()"
   ]
  },
  {
   "cell_type": "code",
   "execution_count": 9,
   "id": "0de95847",
   "metadata": {},
   "outputs": [],
   "source": [
    "news_data['abstract'] = news_data['abstract'].fillna('')"
   ]
  },
  {
   "cell_type": "code",
   "execution_count": null,
   "id": "2231a142",
   "metadata": {},
   "outputs": [],
   "source": [
    "type(news_data['title_entities'][0])"
   ]
  },
  {
   "cell_type": "code",
   "execution_count": null,
   "id": "8a020a77",
   "metadata": {},
   "outputs": [],
   "source": [
    "news_data[news_data['abstract_entities'].apply(lambda x: x == '[]')]"
   ]
  },
  {
   "cell_type": "markdown",
   "id": "aeb0d725",
   "metadata": {},
   "source": [
    "## Data Preprocessing"
   ]
  },
  {
   "cell_type": "markdown",
   "id": "67b856dd",
   "metadata": {},
   "source": [
    "### One-Hot Encode Categories and Subcategories\n",
    "We want to first encode the categories and subcategories. This would result in 288 sparse columns. So, we perform PCA to reduce dimensions for our model to work with."
   ]
  },
  {
   "cell_type": "code",
   "execution_count": 142,
   "id": "c44262b0-503e-4b1c-a725-24ce0ffc3ac5",
   "metadata": {},
   "outputs": [],
   "source": [
    "embedding_dim = news_data['category'].nunique()\n",
    "\n",
    "# one hot encode category and subcategory\n",
    "encoder = OneHotEncoder()\n",
    "cat_subcat = encoder.fit_transform(news_data[['category', 'subcategory']])\n",
    "\n",
    "# reduce dimension\n",
    "cat_pca = PCA(n_components = embedding_dim, random_state = 33)\n",
    "cat_subcat_reduced = cat_pca.fit_transform(cat_subcat)\n",
    "\n",
    "# store as dataframe\n",
    "enc_categories = pd.DataFrame(cat_subcat_reduced, columns=[f'cat_subcat_{i}' for i in range(embedding_dim)])"
   ]
  },
  {
   "cell_type": "code",
   "execution_count": 143,
   "id": "42f749e4-ca0d-4f39-b12b-61ad6d8d5f81",
   "metadata": {},
   "outputs": [
    {
     "data": {
      "text/html": [
       "<div>\n",
       "<style scoped>\n",
       "    .dataframe tbody tr th:only-of-type {\n",
       "        vertical-align: middle;\n",
       "    }\n",
       "\n",
       "    .dataframe tbody tr th {\n",
       "        vertical-align: top;\n",
       "    }\n",
       "\n",
       "    .dataframe thead th {\n",
       "        text-align: right;\n",
       "    }\n",
       "</style>\n",
       "<table border=\"1\" class=\"dataframe\">\n",
       "  <thead>\n",
       "    <tr style=\"text-align: right;\">\n",
       "      <th></th>\n",
       "      <th>news_id</th>\n",
       "      <th>cat_subcat_0</th>\n",
       "      <th>cat_subcat_1</th>\n",
       "      <th>cat_subcat_2</th>\n",
       "      <th>cat_subcat_3</th>\n",
       "      <th>cat_subcat_4</th>\n",
       "      <th>cat_subcat_5</th>\n",
       "      <th>cat_subcat_6</th>\n",
       "      <th>cat_subcat_7</th>\n",
       "      <th>cat_subcat_8</th>\n",
       "      <th>cat_subcat_9</th>\n",
       "      <th>cat_subcat_10</th>\n",
       "      <th>cat_subcat_11</th>\n",
       "      <th>cat_subcat_12</th>\n",
       "      <th>cat_subcat_13</th>\n",
       "      <th>cat_subcat_14</th>\n",
       "      <th>cat_subcat_15</th>\n",
       "      <th>cat_subcat_16</th>\n",
       "      <th>cat_subcat_17</th>\n",
       "    </tr>\n",
       "  </thead>\n",
       "  <tbody>\n",
       "    <tr>\n",
       "      <th>0</th>\n",
       "      <td>88753</td>\n",
       "      <td>-0.018882</td>\n",
       "      <td>-0.488202</td>\n",
       "      <td>0.010104</td>\n",
       "      <td>-0.091991</td>\n",
       "      <td>0.031561</td>\n",
       "      <td>-0.058868</td>\n",
       "      <td>0.014540</td>\n",
       "      <td>0.152775</td>\n",
       "      <td>0.834534</td>\n",
       "      <td>-0.209700</td>\n",
       "      <td>-0.013646</td>\n",
       "      <td>-0.074151</td>\n",
       "      <td>0.000004</td>\n",
       "      <td>-0.000880</td>\n",
       "      <td>-0.003836</td>\n",
       "      <td>-0.001757</td>\n",
       "      <td>-0.001577</td>\n",
       "      <td>-0.016354</td>\n",
       "    </tr>\n",
       "    <tr>\n",
       "      <th>1</th>\n",
       "      <td>45436</td>\n",
       "      <td>0.659947</td>\n",
       "      <td>0.145150</td>\n",
       "      <td>-0.437201</td>\n",
       "      <td>0.128645</td>\n",
       "      <td>-0.015542</td>\n",
       "      <td>0.015045</td>\n",
       "      <td>-0.002529</td>\n",
       "      <td>-0.012732</td>\n",
       "      <td>-0.009378</td>\n",
       "      <td>0.052221</td>\n",
       "      <td>-0.308645</td>\n",
       "      <td>-0.003905</td>\n",
       "      <td>-0.000003</td>\n",
       "      <td>0.001065</td>\n",
       "      <td>0.730545</td>\n",
       "      <td>-0.003780</td>\n",
       "      <td>-0.543145</td>\n",
       "      <td>-0.021678</td>\n",
       "    </tr>\n",
       "    <tr>\n",
       "      <th>2</th>\n",
       "      <td>23144</td>\n",
       "      <td>-0.017946</td>\n",
       "      <td>-0.432692</td>\n",
       "      <td>0.006179</td>\n",
       "      <td>-0.053802</td>\n",
       "      <td>0.016998</td>\n",
       "      <td>-0.028480</td>\n",
       "      <td>0.006388</td>\n",
       "      <td>0.052576</td>\n",
       "      <td>0.092527</td>\n",
       "      <td>0.268533</td>\n",
       "      <td>0.025262</td>\n",
       "      <td>0.893187</td>\n",
       "      <td>0.014520</td>\n",
       "      <td>-0.012990</td>\n",
       "      <td>-0.037335</td>\n",
       "      <td>-0.012409</td>\n",
       "      <td>-0.009619</td>\n",
       "      <td>-0.133298</td>\n",
       "    </tr>\n",
       "    <tr>\n",
       "      <th>3</th>\n",
       "      <td>86255</td>\n",
       "      <td>-0.018313</td>\n",
       "      <td>-0.451082</td>\n",
       "      <td>0.006822</td>\n",
       "      <td>-0.059627</td>\n",
       "      <td>0.018955</td>\n",
       "      <td>-0.031971</td>\n",
       "      <td>0.007205</td>\n",
       "      <td>0.059871</td>\n",
       "      <td>0.107289</td>\n",
       "      <td>0.327346</td>\n",
       "      <td>0.031095</td>\n",
       "      <td>1.146309</td>\n",
       "      <td>0.018963</td>\n",
       "      <td>-0.017333</td>\n",
       "      <td>-0.050648</td>\n",
       "      <td>-0.017341</td>\n",
       "      <td>-0.014158</td>\n",
       "      <td>-0.215537</td>\n",
       "    </tr>\n",
       "    <tr>\n",
       "      <th>4</th>\n",
       "      <td>93187</td>\n",
       "      <td>0.655141</td>\n",
       "      <td>0.142849</td>\n",
       "      <td>-0.417620</td>\n",
       "      <td>0.122585</td>\n",
       "      <td>-0.014749</td>\n",
       "      <td>0.014213</td>\n",
       "      <td>-0.002381</td>\n",
       "      <td>-0.011899</td>\n",
       "      <td>-0.008630</td>\n",
       "      <td>0.045309</td>\n",
       "      <td>-0.263694</td>\n",
       "      <td>-0.003040</td>\n",
       "      <td>-0.000002</td>\n",
       "      <td>0.000704</td>\n",
       "      <td>0.425983</td>\n",
       "      <td>-0.001346</td>\n",
       "      <td>0.836732</td>\n",
       "      <td>-0.042007</td>\n",
       "    </tr>\n",
       "  </tbody>\n",
       "</table>\n",
       "</div>"
      ],
      "text/plain": [
       "   news_id  cat_subcat_0  cat_subcat_1  cat_subcat_2  cat_subcat_3  \\\n",
       "0    88753     -0.018882     -0.488202      0.010104     -0.091991   \n",
       "1    45436      0.659947      0.145150     -0.437201      0.128645   \n",
       "2    23144     -0.017946     -0.432692      0.006179     -0.053802   \n",
       "3    86255     -0.018313     -0.451082      0.006822     -0.059627   \n",
       "4    93187      0.655141      0.142849     -0.417620      0.122585   \n",
       "\n",
       "   cat_subcat_4  cat_subcat_5  cat_subcat_6  cat_subcat_7  cat_subcat_8  \\\n",
       "0      0.031561     -0.058868      0.014540      0.152775      0.834534   \n",
       "1     -0.015542      0.015045     -0.002529     -0.012732     -0.009378   \n",
       "2      0.016998     -0.028480      0.006388      0.052576      0.092527   \n",
       "3      0.018955     -0.031971      0.007205      0.059871      0.107289   \n",
       "4     -0.014749      0.014213     -0.002381     -0.011899     -0.008630   \n",
       "\n",
       "   cat_subcat_9  cat_subcat_10  cat_subcat_11  cat_subcat_12  cat_subcat_13  \\\n",
       "0     -0.209700      -0.013646      -0.074151       0.000004      -0.000880   \n",
       "1      0.052221      -0.308645      -0.003905      -0.000003       0.001065   \n",
       "2      0.268533       0.025262       0.893187       0.014520      -0.012990   \n",
       "3      0.327346       0.031095       1.146309       0.018963      -0.017333   \n",
       "4      0.045309      -0.263694      -0.003040      -0.000002       0.000704   \n",
       "\n",
       "   cat_subcat_14  cat_subcat_15  cat_subcat_16  cat_subcat_17  \n",
       "0      -0.003836      -0.001757      -0.001577      -0.016354  \n",
       "1       0.730545      -0.003780      -0.543145      -0.021678  \n",
       "2      -0.037335      -0.012409      -0.009619      -0.133298  \n",
       "3      -0.050648      -0.017341      -0.014158      -0.215537  \n",
       "4       0.425983      -0.001346       0.836732      -0.042007  "
      ]
     },
     "execution_count": 143,
     "metadata": {},
     "output_type": "execute_result"
    }
   ],
   "source": [
    "metadata = pd.concat([news_data['news_id'], enc_categories], axis = 1)\n",
    "metadata.head()"
   ]
  },
  {
   "cell_type": "markdown",
   "id": "83c36d23",
   "metadata": {},
   "source": [
    "### Titles and Abstract Embeddings"
   ]
  },
  {
   "cell_type": "code",
   "execution_count": null,
   "id": "dd29c3fc",
   "metadata": {},
   "outputs": [],
   "source": [
    "avg_title_len = news_data['title'].str.split().str.len().mean() \n",
    "avg_abstract_len = news_data['abstract'].str.split().str.len().mean()\n",
    "\n",
    "print(\"Average title length:\", avg_title_len)\n",
    "print(\"Average abstract length:\", avg_abstract_len)"
   ]
  },
  {
   "cell_type": "code",
   "execution_count": 144,
   "id": "364272d5",
   "metadata": {},
   "outputs": [
    {
     "data": {
      "application/vnd.jupyter.widget-view+json": {
       "model_id": "b4ed9aeae49142fca83dbb51737dda69",
       "version_major": 2,
       "version_minor": 0
      },
      "text/plain": [
       "Batches:   0%|          | 0/3255 [00:00<?, ?it/s]"
      ]
     },
     "metadata": {},
     "output_type": "display_data"
    }
   ],
   "source": [
    "# find embeddings for title and abstract together\n",
    "news_data['title'] = news_data['title'].fillna('')\n",
    "news_data['abstract'] = news_data['abstract'].fillna('')\n",
    "descriptions = news_data['title'].str.cat(news_data['abstract'], sep = ' ').tolist()\n",
    "\n",
    "title_transformer = SentenceTransformer('all-MiniLM-L6-v2')\n",
    "title_abs_emb = title_transformer.encode(descriptions, show_progress_bar=True)"
   ]
  },
  {
   "cell_type": "code",
   "execution_count": 145,
   "id": "52093558",
   "metadata": {},
   "outputs": [],
   "source": [
    "title_emb_dim = 50\n",
    "#abstract_emb_dim = 5\n",
    "\n",
    "# reduce dimensions\n",
    "title_abs_pca = PCA(n_components = title_emb_dim, random_state = 33)\n",
    "title_abs_emb_reduced = title_abs_pca.fit_transform(title_abs_emb)\n",
    "\n",
    "# store as dataframe\n",
    "enc_title_abs = pd.DataFrame(title_abs_emb_reduced, columns=[f'title_emb_{i}' for i in range(title_emb_dim)])"
   ]
  },
  {
   "cell_type": "code",
   "execution_count": 146,
   "id": "69799891",
   "metadata": {},
   "outputs": [
    {
     "data": {
      "text/html": [
       "<div>\n",
       "<style scoped>\n",
       "    .dataframe tbody tr th:only-of-type {\n",
       "        vertical-align: middle;\n",
       "    }\n",
       "\n",
       "    .dataframe tbody tr th {\n",
       "        vertical-align: top;\n",
       "    }\n",
       "\n",
       "    .dataframe thead th {\n",
       "        text-align: right;\n",
       "    }\n",
       "</style>\n",
       "<table border=\"1\" class=\"dataframe\">\n",
       "  <thead>\n",
       "    <tr style=\"text-align: right;\">\n",
       "      <th></th>\n",
       "      <th>news_id</th>\n",
       "      <th>cat_subcat_0</th>\n",
       "      <th>cat_subcat_1</th>\n",
       "      <th>cat_subcat_2</th>\n",
       "      <th>cat_subcat_3</th>\n",
       "      <th>cat_subcat_4</th>\n",
       "      <th>cat_subcat_5</th>\n",
       "      <th>cat_subcat_6</th>\n",
       "      <th>cat_subcat_7</th>\n",
       "      <th>cat_subcat_8</th>\n",
       "      <th>...</th>\n",
       "      <th>title_emb_40</th>\n",
       "      <th>title_emb_41</th>\n",
       "      <th>title_emb_42</th>\n",
       "      <th>title_emb_43</th>\n",
       "      <th>title_emb_44</th>\n",
       "      <th>title_emb_45</th>\n",
       "      <th>title_emb_46</th>\n",
       "      <th>title_emb_47</th>\n",
       "      <th>title_emb_48</th>\n",
       "      <th>title_emb_49</th>\n",
       "    </tr>\n",
       "  </thead>\n",
       "  <tbody>\n",
       "    <tr>\n",
       "      <th>0</th>\n",
       "      <td>88753</td>\n",
       "      <td>-0.018882</td>\n",
       "      <td>-0.488202</td>\n",
       "      <td>0.010104</td>\n",
       "      <td>-0.091991</td>\n",
       "      <td>0.031561</td>\n",
       "      <td>-0.058868</td>\n",
       "      <td>0.014540</td>\n",
       "      <td>0.152775</td>\n",
       "      <td>0.834534</td>\n",
       "      <td>...</td>\n",
       "      <td>-0.005620</td>\n",
       "      <td>-0.115405</td>\n",
       "      <td>-0.002657</td>\n",
       "      <td>0.108949</td>\n",
       "      <td>-0.071590</td>\n",
       "      <td>-0.056999</td>\n",
       "      <td>0.053448</td>\n",
       "      <td>0.066973</td>\n",
       "      <td>-0.016452</td>\n",
       "      <td>-0.061420</td>\n",
       "    </tr>\n",
       "    <tr>\n",
       "      <th>1</th>\n",
       "      <td>45436</td>\n",
       "      <td>0.659947</td>\n",
       "      <td>0.145150</td>\n",
       "      <td>-0.437201</td>\n",
       "      <td>0.128645</td>\n",
       "      <td>-0.015542</td>\n",
       "      <td>0.015045</td>\n",
       "      <td>-0.002529</td>\n",
       "      <td>-0.012732</td>\n",
       "      <td>-0.009378</td>\n",
       "      <td>...</td>\n",
       "      <td>0.020287</td>\n",
       "      <td>-0.047038</td>\n",
       "      <td>-0.051090</td>\n",
       "      <td>0.032425</td>\n",
       "      <td>-0.017206</td>\n",
       "      <td>-0.072582</td>\n",
       "      <td>-0.009733</td>\n",
       "      <td>-0.007023</td>\n",
       "      <td>0.167145</td>\n",
       "      <td>-0.132340</td>\n",
       "    </tr>\n",
       "    <tr>\n",
       "      <th>2</th>\n",
       "      <td>23144</td>\n",
       "      <td>-0.017946</td>\n",
       "      <td>-0.432692</td>\n",
       "      <td>0.006179</td>\n",
       "      <td>-0.053802</td>\n",
       "      <td>0.016998</td>\n",
       "      <td>-0.028480</td>\n",
       "      <td>0.006388</td>\n",
       "      <td>0.052576</td>\n",
       "      <td>0.092527</td>\n",
       "      <td>...</td>\n",
       "      <td>0.097464</td>\n",
       "      <td>-0.040598</td>\n",
       "      <td>0.040232</td>\n",
       "      <td>-0.068787</td>\n",
       "      <td>0.115315</td>\n",
       "      <td>0.034783</td>\n",
       "      <td>-0.013779</td>\n",
       "      <td>-0.089367</td>\n",
       "      <td>-0.092419</td>\n",
       "      <td>-0.088302</td>\n",
       "    </tr>\n",
       "    <tr>\n",
       "      <th>3</th>\n",
       "      <td>86255</td>\n",
       "      <td>-0.018313</td>\n",
       "      <td>-0.451082</td>\n",
       "      <td>0.006822</td>\n",
       "      <td>-0.059627</td>\n",
       "      <td>0.018955</td>\n",
       "      <td>-0.031971</td>\n",
       "      <td>0.007205</td>\n",
       "      <td>0.059871</td>\n",
       "      <td>0.107289</td>\n",
       "      <td>...</td>\n",
       "      <td>0.105761</td>\n",
       "      <td>0.054931</td>\n",
       "      <td>0.046098</td>\n",
       "      <td>0.037243</td>\n",
       "      <td>-0.027349</td>\n",
       "      <td>0.029842</td>\n",
       "      <td>-0.021076</td>\n",
       "      <td>0.072479</td>\n",
       "      <td>-0.122242</td>\n",
       "      <td>0.066130</td>\n",
       "    </tr>\n",
       "    <tr>\n",
       "      <th>4</th>\n",
       "      <td>93187</td>\n",
       "      <td>0.655141</td>\n",
       "      <td>0.142849</td>\n",
       "      <td>-0.417620</td>\n",
       "      <td>0.122585</td>\n",
       "      <td>-0.014749</td>\n",
       "      <td>0.014213</td>\n",
       "      <td>-0.002381</td>\n",
       "      <td>-0.011899</td>\n",
       "      <td>-0.008630</td>\n",
       "      <td>...</td>\n",
       "      <td>-0.021612</td>\n",
       "      <td>-0.060522</td>\n",
       "      <td>-0.011518</td>\n",
       "      <td>0.061675</td>\n",
       "      <td>0.056140</td>\n",
       "      <td>0.030998</td>\n",
       "      <td>0.106994</td>\n",
       "      <td>-0.075153</td>\n",
       "      <td>-0.102072</td>\n",
       "      <td>0.039118</td>\n",
       "    </tr>\n",
       "  </tbody>\n",
       "</table>\n",
       "<p>5 rows × 69 columns</p>\n",
       "</div>"
      ],
      "text/plain": [
       "   news_id  cat_subcat_0  cat_subcat_1  cat_subcat_2  cat_subcat_3  \\\n",
       "0    88753     -0.018882     -0.488202      0.010104     -0.091991   \n",
       "1    45436      0.659947      0.145150     -0.437201      0.128645   \n",
       "2    23144     -0.017946     -0.432692      0.006179     -0.053802   \n",
       "3    86255     -0.018313     -0.451082      0.006822     -0.059627   \n",
       "4    93187      0.655141      0.142849     -0.417620      0.122585   \n",
       "\n",
       "   cat_subcat_4  cat_subcat_5  cat_subcat_6  cat_subcat_7  cat_subcat_8  ...  \\\n",
       "0      0.031561     -0.058868      0.014540      0.152775      0.834534  ...   \n",
       "1     -0.015542      0.015045     -0.002529     -0.012732     -0.009378  ...   \n",
       "2      0.016998     -0.028480      0.006388      0.052576      0.092527  ...   \n",
       "3      0.018955     -0.031971      0.007205      0.059871      0.107289  ...   \n",
       "4     -0.014749      0.014213     -0.002381     -0.011899     -0.008630  ...   \n",
       "\n",
       "   title_emb_40  title_emb_41  title_emb_42  title_emb_43  title_emb_44  \\\n",
       "0     -0.005620     -0.115405     -0.002657      0.108949     -0.071590   \n",
       "1      0.020287     -0.047038     -0.051090      0.032425     -0.017206   \n",
       "2      0.097464     -0.040598      0.040232     -0.068787      0.115315   \n",
       "3      0.105761      0.054931      0.046098      0.037243     -0.027349   \n",
       "4     -0.021612     -0.060522     -0.011518      0.061675      0.056140   \n",
       "\n",
       "   title_emb_45  title_emb_46  title_emb_47  title_emb_48  title_emb_49  \n",
       "0     -0.056999      0.053448      0.066973     -0.016452     -0.061420  \n",
       "1     -0.072582     -0.009733     -0.007023      0.167145     -0.132340  \n",
       "2      0.034783     -0.013779     -0.089367     -0.092419     -0.088302  \n",
       "3      0.029842     -0.021076      0.072479     -0.122242      0.066130  \n",
       "4      0.030998      0.106994     -0.075153     -0.102072      0.039118  \n",
       "\n",
       "[5 rows x 69 columns]"
      ]
     },
     "execution_count": 146,
     "metadata": {},
     "output_type": "execute_result"
    }
   ],
   "source": [
    "# add to news_data df\n",
    "news_metadata = pd.concat([metadata, enc_title_abs], axis = 1)\n",
    "news_metadata.head()"
   ]
  },
  {
   "cell_type": "markdown",
   "id": "d427c233-dce3-40fa-a0d2-02ac1111ee7a",
   "metadata": {},
   "source": [
    "### Sentiment Analysis - decreased score"
   ]
  },
  {
   "cell_type": "code",
   "execution_count": 100,
   "id": "fa6d35e2-3478-41b6-b17b-7d92e81b20d2",
   "metadata": {},
   "outputs": [
    {
     "name": "stderr",
     "output_type": "stream",
     "text": [
      "No model was supplied, defaulted to distilbert/distilbert-base-uncased-finetuned-sst-2-english and revision 714eb0f (https://huggingface.co/distilbert/distilbert-base-uncased-finetuned-sst-2-english).\n",
      "Using a pipeline without specifying a model name and revision in production is not recommended.\n",
      "Device set to use mps:0\n"
     ]
    }
   ],
   "source": [
    "from transformers import pipeline\n",
    "classifier = pipeline(\"sentiment-analysis\")\n",
    "\n",
    "def get_sentiment(text) :\n",
    "    if len(text) == 0:\n",
    "        return 0\n",
    "    n = (len(text) // 512) + 1\n",
    "    words = text.split()\n",
    "    words_per_piece = (len(words) // n) + 1\n",
    "    pieces = [words[i:i+words_per_piece] for i in range(0, len(words), words_per_piece)]\n",
    "    text = [\" \".join(piece) for piece in pieces]\n",
    "        \n",
    "    result = classifier(text)\n",
    "\n",
    "    scores = [r['score'] if r['label'] == 'POSITIVE' else -r['score'] for r in result]\n",
    "\n",
    "    return np.mean(scores)"
   ]
  },
  {
   "cell_type": "code",
   "execution_count": 101,
   "id": "c640e07c-632e-4432-abbc-fd17f85c111c",
   "metadata": {},
   "outputs": [],
   "source": [
    "news_data['title'] = news_data['title'].fillna('')\n",
    "news_data['abstract'] = news_data['abstract'].fillna('')"
   ]
  },
  {
   "cell_type": "code",
   "execution_count": 102,
   "id": "9be4100f-c980-4e8f-832a-195bf4088b12",
   "metadata": {},
   "outputs": [],
   "source": [
    "news_data['title_sentiment'] = news_data['title'].apply(get_sentiment)"
   ]
  },
  {
   "cell_type": "code",
   "execution_count": 103,
   "id": "261fc807-0191-4f9a-87db-9b9059ffc250",
   "metadata": {},
   "outputs": [],
   "source": [
    "news_data['abstract_sentiment'] = news_data['abstract'].apply(get_sentiment)"
   ]
  },
  {
   "cell_type": "code",
   "execution_count": 115,
   "id": "483d2238-e81e-477b-96c3-f908717d3467",
   "metadata": {},
   "outputs": [],
   "source": [
    "news_metadata = pd.concat([metadata, enc_title_abs, news_data['title_sentiment']], axis = 1)"
   ]
  },
  {
   "cell_type": "markdown",
   "id": "4bce6045-9867-46f8-b7c7-201b24f1be01",
   "metadata": {},
   "source": [
    "### User Click History - also useless"
   ]
  },
  {
   "cell_type": "code",
   "execution_count": 105,
   "id": "536828bd-acf8-493d-87c9-48d7af5640a0",
   "metadata": {},
   "outputs": [],
   "source": [
    "# all_timestamps = pd.concat([train[['user_id', 'timestamp']], val[['user_id', 'timestamp']]], ignore_index = True).sort_values(by = ['timestamp', 'user_id']).drop_duplicates().reset_index(drop=True)\n",
    "# all_timestamps.head()"
   ]
  },
  {
   "cell_type": "code",
   "execution_count": 106,
   "id": "72882328-06c4-474b-9646-0a3b2b63fa5a",
   "metadata": {},
   "outputs": [],
   "source": [
    "# all_clicked = pd.concat([train_clicked, val_clicked], ignore_index = True).sort_values(by = ['timestamp', 'user_id']).drop(columns = 'impression').reset_index(drop = True)\n",
    "# clicked_metadata = all_clicked.merge(news_metadata, on = 'news_id', how = 'left').drop(columns = [col for col in news_metadata.columns if col.startswith('cat_subcat_')])\n",
    "# clicked_metadata.head()"
   ]
  },
  {
   "cell_type": "code",
   "execution_count": 107,
   "id": "8fee1f47-12a0-4809-9abc-c1756b570542",
   "metadata": {
    "scrolled": true
   },
   "outputs": [],
   "source": [
    "# history_emb = []\n",
    "# for _, row in all_timestamps.iterrows() :\n",
    "#     user_id = row['user_id']\n",
    "#     timestamp = row['timestamp']\n",
    "#     past_clicks = clicked_metadata[(clicked_metadata['user_id'] == user_id) & (clicked_metadata['timestamp'] < timestamp)].drop(columns = ['user_id', 'timestamp', 'news_id'])\n",
    "\n",
    "#     history = past_clicks.mean().fillna(0)\n",
    "#     history_emb.append(history)\n",
    "\n",
    "# history_emb[-10:]"
   ]
  },
  {
   "cell_type": "code",
   "execution_count": 108,
   "id": "3bb6bf8b-1ec8-4b20-a077-0b463fd1f018",
   "metadata": {},
   "outputs": [],
   "source": [
    "# history_emb = pd.DataFrame(history_emb)"
   ]
  },
  {
   "cell_type": "code",
   "execution_count": 109,
   "id": "af2b92aa-8feb-4b20-ae1f-90befc5333fa",
   "metadata": {},
   "outputs": [],
   "source": [
    "# timestamps_with_history = pd.concat([all_timestamps, history_emb], axis = 1)\n",
    "# timestamps_with_history.head()"
   ]
  },
  {
   "cell_type": "markdown",
   "id": "1d7a47c4-d9d8-4011-b341-0a987689e25a",
   "metadata": {},
   "source": [
    "### Embeddings from Dataset - Did not help"
   ]
  },
  {
   "cell_type": "code",
   "execution_count": 84,
   "id": "8b99b5cf-3f9f-4190-b2e1-3eadb4a3a7e6",
   "metadata": {},
   "outputs": [],
   "source": [
    "# train_entity_emb = pd.read_csv('train_entity_embedding.vec', sep = '\\t', header = None).drop(columns = [101])\n",
    "# train_entity_emb = train_entity_emb.rename(columns = {0: 'entity_id'}).set_index('entity_id')\n",
    "# train_entity_emb.head()"
   ]
  },
  {
   "cell_type": "code",
   "execution_count": 85,
   "id": "be2e0553-652a-4293-a8da-f3178efe390a",
   "metadata": {},
   "outputs": [],
   "source": [
    "# val_entity_emb = pd.read_csv('val_entity_embedding.vec', sep = '\\t', header = None).drop(columns = [101])\n",
    "# val_entity_emb = val_entity_emb.rename(columns = {0: 'entity_id'}).set_index('entity_id')\n",
    "# val_entity_emb.head()"
   ]
  },
  {
   "cell_type": "code",
   "execution_count": 86,
   "id": "21cba96e-3fce-4917-bc52-e9b7edccef3e",
   "metadata": {},
   "outputs": [],
   "source": [
    "# all_entities_emb = pd.concat([train_entity_emb, val_entity_emb]).drop_duplicates()\n",
    "# all_entities_emb.head()"
   ]
  },
  {
   "cell_type": "code",
   "execution_count": 87,
   "id": "aaf81646-7a33-45eb-860e-4585fddaabfb",
   "metadata": {},
   "outputs": [],
   "source": [
    "# #replacing any NaN values in title_entities and abstract_entities columns with empty list string '[]'\n",
    "# news_data['title_entities'] = news_data['title_entities'].apply(\n",
    "#    lambda x: '[]' if pd.isna(x) else x)\n",
    "# news_data['abstract_entities'] = news_data['abstract_entities'].apply(\n",
    "#    lambda x: '[]' if pd.isna(x) else x)"
   ]
  },
  {
   "cell_type": "code",
   "execution_count": 88,
   "id": "51f8ae72-6bdb-4a2f-ae1f-e0538c721c87",
   "metadata": {},
   "outputs": [],
   "source": [
    "# # getting entity ids for titles\n",
    "# title_wikidata_ids = []\n",
    "\n",
    "# for i, row in news_data.iterrows():\n",
    "#     title_entities = json.loads(row['title_entities'])\n",
    "#     n_ids = [e['WikidataId'] for e in title_entities]     \n",
    "#     title_wikidata_ids.append(n_ids)\n",
    "\n",
    "# news_data['title_entities_ids'] = title_wikidata_ids\n",
    "# news_data.head()"
   ]
  },
  {
   "cell_type": "code",
   "execution_count": 89,
   "id": "322518a1-8af0-4a3f-a906-bc0599bcbe1b",
   "metadata": {},
   "outputs": [],
   "source": [
    "# # getting entity ids for abstracts\n",
    "# abstract_wikidata_ids = []\n",
    "\n",
    "# for i, row in news_data.iterrows():\n",
    "#     abstract_entities = json.loads(row['abstract_entities'])\n",
    "#     n_ids = [e['WikidataId'] for e in abstract_entities]     \n",
    "#     abstract_wikidata_ids.append(n_ids)\n",
    "\n",
    "# news_data['abstract_entities_ids'] = abstract_wikidata_ids\n",
    "# news_data.head()"
   ]
  },
  {
   "cell_type": "code",
   "execution_count": 90,
   "id": "4f81c61a-e6b6-442e-8f32-d54b62b0cd4d",
   "metadata": {},
   "outputs": [],
   "source": [
    "# # wikidata id to embedding mapping\n",
    "# embedding_dict = {\n",
    "#     entity_id: row.values for entity_id, row in all_entities_emb.iterrows()\n",
    "# }"
   ]
  },
  {
   "cell_type": "code",
   "execution_count": 91,
   "id": "9947f845-0a0f-46ee-9784-1e4ec6544ec6",
   "metadata": {},
   "outputs": [],
   "source": [
    "# # # calculating entity weights\n",
    "# from collections import Counter\n",
    "\n",
    "# # flattening all entity lists and counting how many times each one shows up\n",
    "# all_entity_ids = news_data['title_entities_ids'].explode().dropna().tolist()\n",
    "# entity_freq = Counter(all_entity_ids)\n",
    "\n",
    "# # normalizing to get probabilities\n",
    "# total = sum(entity_freq.values())\n",
    "# entity_weights = {e_id: freq / total for e_id, freq in entity_freq.items()}"
   ]
  },
  {
   "cell_type": "code",
   "execution_count": 92,
   "id": "94e8d421-daa8-41bb-973a-23f095a5601a",
   "metadata": {},
   "outputs": [],
   "source": [
    "# # # combines title and abstract embeddings and returns 100dim vector for each article (if it has entities)\n",
    "# def get_weighted_article_embedding(entity_ids, embedding_dict, weight_dict, dim = 100):\n",
    "#     vectors = []\n",
    "#     weights = []\n",
    "#     for e_id in entity_ids:\n",
    "#         if e_id in embedding_dict:\n",
    "#             vectors.append(embedding_dict[e_id])\n",
    "#             weights.append(weight_dict.get(e_id, 1e-3)) #add small default weight if no weight found\n",
    "    \n",
    "#     if not vectors:\n",
    "#         return np.zeros(dim)\n",
    "#     return np.average(vectors, axis = 0, weights = weights)"
   ]
  },
  {
   "cell_type": "code",
   "execution_count": 93,
   "id": "2b03d34b-318e-4432-a271-4a668564c753",
   "metadata": {},
   "outputs": [],
   "source": [
    "# news_data['title_abstract_embedding'] = news_data.apply(\n",
    "#     lambda row: get_weighted_article_embedding(\n",
    "#         (row['title_entities_ids'] or []) + (row['abstract_entities_ids'] or []),\n",
    "#         embedding_dict, entity_weights),\n",
    "#     axis=1\n",
    "# )"
   ]
  },
  {
   "cell_type": "code",
   "execution_count": 94,
   "id": "e3482128-fa78-44ea-a687-9a3f39df144f",
   "metadata": {},
   "outputs": [],
   "source": [
    "# embedding_expanded = news_data['title_abstract_embedding'].apply(pd.Series)\n",
    "# embedding_expanded.columns = [f'title_abstract_{i}' for i in range(100)]\n",
    "\n",
    "# embedding_expanded.head()"
   ]
  },
  {
   "cell_type": "code",
   "execution_count": 95,
   "id": "3bca77af-0f70-44ba-becf-ab662a2e5335",
   "metadata": {},
   "outputs": [],
   "source": [
    "#news_metadata = pd.concat([metadata, embedding_expanded], axis = 1)"
   ]
  },
  {
   "cell_type": "code",
   "execution_count": 96,
   "id": "cd979702-f835-4ae4-b8f1-4fa26b4c92dc",
   "metadata": {},
   "outputs": [],
   "source": [
    "#news_metadata.head()"
   ]
  },
  {
   "cell_type": "markdown",
   "id": "9535beda-bca4-4f2e-8696-5a00fa4e1c64",
   "metadata": {},
   "source": [
    "### Training + Validation Sets"
   ]
  },
  {
   "cell_type": "code",
   "execution_count": 147,
   "id": "875b35bc-d637-4252-9e06-a90a2f7bcd5e",
   "metadata": {},
   "outputs": [],
   "source": [
    "def print_scores(y_act, y_pred, y_score) :\n",
    "    print(\"- Confusion Matrix: \",confusion_matrix(y_act, y_pred))\n",
    "    print(\"- ROC-AUC: \", roc_auc_score(y_act, y_score))\n",
    "    print(\"- Accuracy: \", accuracy_score(y_act, y_pred))\n",
    "    print(\"- Precision: \", precision_score(y_act, y_pred))\n",
    "    print(\"- Recall: \", recall_score(y_act, y_pred))\n",
    "    print(\"- F1: \", f1_score(y_act, y_pred))\n",
    "    print(\"- AUC-PR: \", average_precision_score(y_act, y_score))"
   ]
  },
  {
   "cell_type": "code",
   "execution_count": null,
   "id": "e1b9241e",
   "metadata": {},
   "outputs": [],
   "source": [
    "train_metadata = train.merge(news_metadata, on = 'news_id', how = 'left')\n",
    "val_metadata = val.merge(news_metadata, on = 'news_id', how = 'left')"
   ]
  },
  {
   "cell_type": "code",
   "execution_count": 117,
   "id": "bc22da1d-c60f-4286-9908-76de1f5fa4af",
   "metadata": {},
   "outputs": [],
   "source": [
    "# train_metadata_history = train_metadata.merge(timestamps_with_history, on = ['user_id', 'timestamp'], how = 'left')\n",
    "# val_metadata_history = val_metadata.merge(timestamps_with_history, on = ['user_id', 'timestamp'], how = 'left')"
   ]
  },
  {
   "cell_type": "code",
   "execution_count": null,
   "id": "b5721bb3-1f87-4f23-a86f-fcf8c04dd808",
   "metadata": {},
   "outputs": [],
   "source": [
    "X_train = train_metadata.drop(columns = ['impression'])\n",
    "y_train = train_metadata['impression']\n",
    "X_val = val_metadata.drop(columns = ['impression'])"
   ]
  },
  {
   "cell_type": "markdown",
   "id": "8c2dbc2e-6d8d-4f64-ae2d-1812fdef3e63",
   "metadata": {},
   "source": [
    "### Handle Imbalanced Dataset"
   ]
  },
  {
   "cell_type": "code",
   "execution_count": null,
   "id": "00036335-a83e-4042-a89a-9322d2940086",
   "metadata": {},
   "outputs": [],
   "source": [
    "ratio = len(train_not_clicked) / len(train_clicked)"
   ]
  },
  {
   "cell_type": "markdown",
   "id": "16a3a365-7aaf-42d5-ad66-cf1ece95f6de",
   "metadata": {},
   "source": [
    "### Initial Model"
   ]
  },
  {
   "cell_type": "code",
   "execution_count": null,
   "id": "ff6aa0bf-5ce3-4456-9b0f-e6ef84c23364",
   "metadata": {},
   "outputs": [],
   "source": [
    "# initialize model\n",
    "model = xgb(n_estimators = 50, scale_pos_weight=ratio, eval_metric = 'logloss', random_state = 33)\n",
    "# fit the model to training set\n",
    "model.fit(X_train, y_train)\n",
    "\n",
    "# predict validation set\n",
    "val_pred = val.copy()\n",
    "y_score = model.predict_proba(X_val)[:,1]\n",
    "y_pred = model.predict(X_val)\n",
    "y_act = val_pred['impression']\n",
    "print_scores(y_act, y_pred, y_score)"
   ]
  },
  {
   "cell_type": "markdown",
   "id": "8bf7d998-34b1-419d-adaf-9d6e86d89c0d",
   "metadata": {},
   "source": [
    "#### With nothing :\n",
    "- Confusion Matrix: [[2025900  603715]\n",
    " [  84120   27263]]\n",
    "- ROC-AUC:  0.5201805694312953\n",
    "- Accuracy:  0.7490567304317625\n",
    "- Precision:  0.04320752863015826\n",
    "- Recall:  0.24476805257534812\n",
    "- F1:  0.07344944036661409\n",
    "\n",
    "#### With categories + subcategories:\n",
    "- Confusion Matrix:  \n",
    "[[2058308  571307]\n",
    " [  69239   42144]]\n",
    "- ROC-AUC:  0.6097792532230576\n",
    "- Accuracy:  0.7663092056251044\n",
    "- Precision:  0.06869986355878464\n",
    "- Recall:  0.37837012829605954\n",
    "- F1:  0.1162859358142692\n",
    "\n",
    "### With categories + subcategories, title+abstract :\n",
    "\n",
    "#### With categories + subcategories, title+abstract (25) :\n",
    "- Confusion Matrix:  [[2201348  428267]\n",
    " [  78534   32849]]\n",
    "- ROC-AUC:  0.6160573335316327\n",
    "- Accuracy:  0.8151034769087756\n",
    "- Precision:  0.07123803988584218\n",
    "- Recall:  0.29491933239363277\n",
    "- F1:  0.11475653232582066\n",
    "\n",
    "### With categories + subcategories, title+abstract (50) : best\n",
    "n_estimators = 200\n",
    "- Confusion Matrix:  [[2068370  561245]\n",
    " [  65302   46081]]\n",
    "- ROC-AUC:  0.6437394670245854\n",
    "- Accuracy:  0.7714164694757165\n",
    "- Precision:  0.07587523010705947\n",
    "- Recall:  0.41371663539319287\n",
    "- F1:  0.1282327061439331\n",
    "\n",
    "n_estimators = 100\n",
    "- Confusion Matrix:  [[2027765  601850]\n",
    " [  62517   48866]]\n",
    "- ROC-AUC:  0.646595477228097\n",
    "- Accuracy:  0.7576185754239879\n",
    "- Precision:  0.07509574069179181\n",
    "- Recall:  0.43872045105626534\n",
    "- F1:  0.12824055667308315\n",
    "#### With categories + subcategories, title+abstract (100) :\n",
    "- Confusion Matrix:  [[2056468  573147]\n",
    " [  65599   45784]]\n",
    "- ROC-AUC:  0.6438007004436539\n",
    "- Accuracy:  0.7669659007412628\n",
    "- Precision:  0.07397270455026489\n",
    "- Recall:  0.411050160257849\n",
    "- F1:  0.12538168513817344\n",
    "\n",
    "#### With categories + subcategories, title+abstract (150) :\n",
    "- Confusion Matrix:  [[2099019  530596]\n",
    " [  71326   40057]]\n",
    "- ROC-AUC:  0.637131801729021\n",
    "- Accuracy:  0.7804004234953837\n",
    "- Precision:  0.07019502219387264\n",
    "- Recall:  0.359632978102583\n",
    "- F1:  0.11746300781776915\n",
    "\n",
    "#### With categories + subcategories, title+abstract (200) :\n",
    "- Confusion Matrix:  [[2047624  581991]\n",
    " [  67830   43553]]\n",
    "- ROC-AUC:  0.6264987861907454\n",
    "- Accuracy:  0.7629254016237881\n",
    "- Precision:  0.06962419909710588\n",
    "- Recall:  0.3910201736351149\n",
    "- F1:  0.11820166719362976\n",
    "\n",
    "#### With categories + subcategories, dataset embeddings (100) :\n",
    "- Confusion Matrix:  [[2108234  521381]\n",
    " [  72734   38649]]\n",
    "- ROC-AUC:  0.6103668805968359\n",
    "- Accuracy:  0.7832486561464109\n",
    "- Precision:  0.06901237433708908\n",
    "- Recall:  0.3469919107942864\n",
    "- F1:  0.11512735082579574\n",
    "\n",
    "#### With categories + subcategories, title+abstract (50), history :\n",
    "- Confusion Matrix:  [[2108234  521381]\n",
    " [  72734   38649]]\n",
    "- ROC-AUC:  0.6103668805968359\n",
    "- Accuracy:  0.7832486561464109\n",
    "- Precision:  0.06901237433708908\n",
    "- Recall:  0.3469919107942864\n",
    "- F1:  0.11512735082579574\n",
    "\n",
    "#### With categories + subcategories, title+abstract, sentiment analysis :\n",
    "- Confusion Matrix:  [[2083570  546045]\n",
    " [  69644   41739]]\n",
    "- ROC-AUC:  0.6265757744394764\n",
    "- Accuracy:  0.7753778003486321\n",
    "- Precision:  0.07101077947000939\n",
    "- Recall:  0.3747340258387725\n",
    "- F1:  0.11939636739148157\n",
    "\n",
    " Results with sentiment analysis\n",
    " Confusion Matrix:  [[1914592  715023]\n",
    "  [  58135   53248]]\n",
    " ROC-AUC:  0.6411829551735185\n",
    " Accuracy:  0.7179282874339931\n",
    " Precision:  0.06930887668544042\n",
    " Recall:  0.478062181841035\n",
    " F1:  0.12106578268273663"
   ]
  },
  {
   "cell_type": "code",
   "execution_count": 133,
   "id": "76545372-67fd-4ea7-83ad-f4983eaa1e77",
   "metadata": {},
   "outputs": [
    {
     "name": "stdout",
     "output_type": "stream",
     "text": [
      "Fitting 3 folds for each of 100 candidates, totalling 300 fits\n"
     ]
    },
    {
     "ename": "OSError",
     "evalue": "[WinError 1450] Insufficient system resources exist to complete the requested service",
     "output_type": "error",
     "traceback": [
      "\u001b[31m---------------------------------------------------------------------------\u001b[39m",
      "\u001b[31mOSError\u001b[39m                                   Traceback (most recent call last)",
      "\u001b[36mCell\u001b[39m\u001b[36m \u001b[39m\u001b[32mIn[133]\u001b[39m\u001b[32m, line 34\u001b[39m\n\u001b[32m     22\u001b[39m random_search = RandomizedSearchCV(\n\u001b[32m     23\u001b[39m     estimator=model,\n\u001b[32m     24\u001b[39m     param_distributions=param_dist,\n\u001b[32m   (...)\u001b[39m\u001b[32m     30\u001b[39m     n_jobs=-\u001b[32m1\u001b[39m\n\u001b[32m     31\u001b[39m )\n\u001b[32m     33\u001b[39m \u001b[38;5;66;03m# Fit search\u001b[39;00m\n\u001b[32m---> \u001b[39m\u001b[32m34\u001b[39m \u001b[43mrandom_search\u001b[49m\u001b[43m.\u001b[49m\u001b[43mfit\u001b[49m\u001b[43m(\u001b[49m\u001b[43mX_train\u001b[49m\u001b[43m,\u001b[49m\u001b[43m \u001b[49m\u001b[43my_train\u001b[49m\u001b[43m)\u001b[49m\n\u001b[32m     36\u001b[39m \u001b[38;5;66;03m# Best model and parameters\u001b[39;00m\n\u001b[32m     37\u001b[39m \u001b[38;5;28mprint\u001b[39m(\u001b[33m\"\u001b[39m\u001b[33mBest Precision score: \u001b[39m\u001b[33m\"\u001b[39m, random_search.best_score_)\n",
      "\u001b[36mFile \u001b[39m\u001b[32m~\\AppData\\Local\\Programs\\Python\\Python312\\Lib\\site-packages\\sklearn\\base.py:1389\u001b[39m, in \u001b[36m_fit_context.<locals>.decorator.<locals>.wrapper\u001b[39m\u001b[34m(estimator, *args, **kwargs)\u001b[39m\n\u001b[32m   1382\u001b[39m     estimator._validate_params()\n\u001b[32m   1384\u001b[39m \u001b[38;5;28;01mwith\u001b[39;00m config_context(\n\u001b[32m   1385\u001b[39m     skip_parameter_validation=(\n\u001b[32m   1386\u001b[39m         prefer_skip_nested_validation \u001b[38;5;129;01mor\u001b[39;00m global_skip_validation\n\u001b[32m   1387\u001b[39m     )\n\u001b[32m   1388\u001b[39m ):\n\u001b[32m-> \u001b[39m\u001b[32m1389\u001b[39m     \u001b[38;5;28;01mreturn\u001b[39;00m \u001b[43mfit_method\u001b[49m\u001b[43m(\u001b[49m\u001b[43mestimator\u001b[49m\u001b[43m,\u001b[49m\u001b[43m \u001b[49m\u001b[43m*\u001b[49m\u001b[43margs\u001b[49m\u001b[43m,\u001b[49m\u001b[43m \u001b[49m\u001b[43m*\u001b[49m\u001b[43m*\u001b[49m\u001b[43mkwargs\u001b[49m\u001b[43m)\u001b[49m\n",
      "\u001b[36mFile \u001b[39m\u001b[32m~\\AppData\\Local\\Programs\\Python\\Python312\\Lib\\site-packages\\sklearn\\model_selection\\_search.py:1024\u001b[39m, in \u001b[36mBaseSearchCV.fit\u001b[39m\u001b[34m(self, X, y, **params)\u001b[39m\n\u001b[32m   1018\u001b[39m     results = \u001b[38;5;28mself\u001b[39m._format_results(\n\u001b[32m   1019\u001b[39m         all_candidate_params, n_splits, all_out, all_more_results\n\u001b[32m   1020\u001b[39m     )\n\u001b[32m   1022\u001b[39m     \u001b[38;5;28;01mreturn\u001b[39;00m results\n\u001b[32m-> \u001b[39m\u001b[32m1024\u001b[39m \u001b[38;5;28;43mself\u001b[39;49m\u001b[43m.\u001b[49m\u001b[43m_run_search\u001b[49m\u001b[43m(\u001b[49m\u001b[43mevaluate_candidates\u001b[49m\u001b[43m)\u001b[49m\n\u001b[32m   1026\u001b[39m \u001b[38;5;66;03m# multimetric is determined here because in the case of a callable\u001b[39;00m\n\u001b[32m   1027\u001b[39m \u001b[38;5;66;03m# self.scoring the return type is only known after calling\u001b[39;00m\n\u001b[32m   1028\u001b[39m first_test_score = all_out[\u001b[32m0\u001b[39m][\u001b[33m\"\u001b[39m\u001b[33mtest_scores\u001b[39m\u001b[33m\"\u001b[39m]\n",
      "\u001b[36mFile \u001b[39m\u001b[32m~\\AppData\\Local\\Programs\\Python\\Python312\\Lib\\site-packages\\sklearn\\model_selection\\_search.py:1951\u001b[39m, in \u001b[36mRandomizedSearchCV._run_search\u001b[39m\u001b[34m(self, evaluate_candidates)\u001b[39m\n\u001b[32m   1949\u001b[39m \u001b[38;5;28;01mdef\u001b[39;00m\u001b[38;5;250m \u001b[39m\u001b[34m_run_search\u001b[39m(\u001b[38;5;28mself\u001b[39m, evaluate_candidates):\n\u001b[32m   1950\u001b[39m \u001b[38;5;250m    \u001b[39m\u001b[33;03m\"\"\"Search n_iter candidates from param_distributions\"\"\"\u001b[39;00m\n\u001b[32m-> \u001b[39m\u001b[32m1951\u001b[39m     \u001b[43mevaluate_candidates\u001b[49m\u001b[43m(\u001b[49m\n\u001b[32m   1952\u001b[39m \u001b[43m        \u001b[49m\u001b[43mParameterSampler\u001b[49m\u001b[43m(\u001b[49m\n\u001b[32m   1953\u001b[39m \u001b[43m            \u001b[49m\u001b[38;5;28;43mself\u001b[39;49m\u001b[43m.\u001b[49m\u001b[43mparam_distributions\u001b[49m\u001b[43m,\u001b[49m\u001b[43m \u001b[49m\u001b[38;5;28;43mself\u001b[39;49m\u001b[43m.\u001b[49m\u001b[43mn_iter\u001b[49m\u001b[43m,\u001b[49m\u001b[43m \u001b[49m\u001b[43mrandom_state\u001b[49m\u001b[43m=\u001b[49m\u001b[38;5;28;43mself\u001b[39;49m\u001b[43m.\u001b[49m\u001b[43mrandom_state\u001b[49m\n\u001b[32m   1954\u001b[39m \u001b[43m        \u001b[49m\u001b[43m)\u001b[49m\n\u001b[32m   1955\u001b[39m \u001b[43m    \u001b[49m\u001b[43m)\u001b[49m\n",
      "\u001b[36mFile \u001b[39m\u001b[32m~\\AppData\\Local\\Programs\\Python\\Python312\\Lib\\site-packages\\sklearn\\model_selection\\_search.py:970\u001b[39m, in \u001b[36mBaseSearchCV.fit.<locals>.evaluate_candidates\u001b[39m\u001b[34m(candidate_params, cv, more_results)\u001b[39m\n\u001b[32m    962\u001b[39m \u001b[38;5;28;01mif\u001b[39;00m \u001b[38;5;28mself\u001b[39m.verbose > \u001b[32m0\u001b[39m:\n\u001b[32m    963\u001b[39m     \u001b[38;5;28mprint\u001b[39m(\n\u001b[32m    964\u001b[39m         \u001b[33m\"\u001b[39m\u001b[33mFitting \u001b[39m\u001b[38;5;132;01m{0}\u001b[39;00m\u001b[33m folds for each of \u001b[39m\u001b[38;5;132;01m{1}\u001b[39;00m\u001b[33m candidates,\u001b[39m\u001b[33m\"\u001b[39m\n\u001b[32m    965\u001b[39m         \u001b[33m\"\u001b[39m\u001b[33m totalling \u001b[39m\u001b[38;5;132;01m{2}\u001b[39;00m\u001b[33m fits\u001b[39m\u001b[33m\"\u001b[39m.format(\n\u001b[32m    966\u001b[39m             n_splits, n_candidates, n_candidates * n_splits\n\u001b[32m    967\u001b[39m         )\n\u001b[32m    968\u001b[39m     )\n\u001b[32m--> \u001b[39m\u001b[32m970\u001b[39m out = \u001b[43mparallel\u001b[49m\u001b[43m(\u001b[49m\n\u001b[32m    971\u001b[39m \u001b[43m    \u001b[49m\u001b[43mdelayed\u001b[49m\u001b[43m(\u001b[49m\u001b[43m_fit_and_score\u001b[49m\u001b[43m)\u001b[49m\u001b[43m(\u001b[49m\n\u001b[32m    972\u001b[39m \u001b[43m        \u001b[49m\u001b[43mclone\u001b[49m\u001b[43m(\u001b[49m\u001b[43mbase_estimator\u001b[49m\u001b[43m)\u001b[49m\u001b[43m,\u001b[49m\n\u001b[32m    973\u001b[39m \u001b[43m        \u001b[49m\u001b[43mX\u001b[49m\u001b[43m,\u001b[49m\n\u001b[32m    974\u001b[39m \u001b[43m        \u001b[49m\u001b[43my\u001b[49m\u001b[43m,\u001b[49m\n\u001b[32m    975\u001b[39m \u001b[43m        \u001b[49m\u001b[43mtrain\u001b[49m\u001b[43m=\u001b[49m\u001b[43mtrain\u001b[49m\u001b[43m,\u001b[49m\n\u001b[32m    976\u001b[39m \u001b[43m        \u001b[49m\u001b[43mtest\u001b[49m\u001b[43m=\u001b[49m\u001b[43mtest\u001b[49m\u001b[43m,\u001b[49m\n\u001b[32m    977\u001b[39m \u001b[43m        \u001b[49m\u001b[43mparameters\u001b[49m\u001b[43m=\u001b[49m\u001b[43mparameters\u001b[49m\u001b[43m,\u001b[49m\n\u001b[32m    978\u001b[39m \u001b[43m        \u001b[49m\u001b[43msplit_progress\u001b[49m\u001b[43m=\u001b[49m\u001b[43m(\u001b[49m\u001b[43msplit_idx\u001b[49m\u001b[43m,\u001b[49m\u001b[43m \u001b[49m\u001b[43mn_splits\u001b[49m\u001b[43m)\u001b[49m\u001b[43m,\u001b[49m\n\u001b[32m    979\u001b[39m \u001b[43m        \u001b[49m\u001b[43mcandidate_progress\u001b[49m\u001b[43m=\u001b[49m\u001b[43m(\u001b[49m\u001b[43mcand_idx\u001b[49m\u001b[43m,\u001b[49m\u001b[43m \u001b[49m\u001b[43mn_candidates\u001b[49m\u001b[43m)\u001b[49m\u001b[43m,\u001b[49m\n\u001b[32m    980\u001b[39m \u001b[43m        \u001b[49m\u001b[43m*\u001b[49m\u001b[43m*\u001b[49m\u001b[43mfit_and_score_kwargs\u001b[49m\u001b[43m,\u001b[49m\n\u001b[32m    981\u001b[39m \u001b[43m    \u001b[49m\u001b[43m)\u001b[49m\n\u001b[32m    982\u001b[39m \u001b[43m    \u001b[49m\u001b[38;5;28;43;01mfor\u001b[39;49;00m\u001b[43m \u001b[49m\u001b[43m(\u001b[49m\u001b[43mcand_idx\u001b[49m\u001b[43m,\u001b[49m\u001b[43m \u001b[49m\u001b[43mparameters\u001b[49m\u001b[43m)\u001b[49m\u001b[43m,\u001b[49m\u001b[43m \u001b[49m\u001b[43m(\u001b[49m\u001b[43msplit_idx\u001b[49m\u001b[43m,\u001b[49m\u001b[43m \u001b[49m\u001b[43m(\u001b[49m\u001b[43mtrain\u001b[49m\u001b[43m,\u001b[49m\u001b[43m \u001b[49m\u001b[43mtest\u001b[49m\u001b[43m)\u001b[49m\u001b[43m)\u001b[49m\u001b[43m \u001b[49m\u001b[38;5;129;43;01min\u001b[39;49;00m\u001b[43m \u001b[49m\u001b[43mproduct\u001b[49m\u001b[43m(\u001b[49m\n\u001b[32m    983\u001b[39m \u001b[43m        \u001b[49m\u001b[38;5;28;43menumerate\u001b[39;49m\u001b[43m(\u001b[49m\u001b[43mcandidate_params\u001b[49m\u001b[43m)\u001b[49m\u001b[43m,\u001b[49m\n\u001b[32m    984\u001b[39m \u001b[43m        \u001b[49m\u001b[38;5;28;43menumerate\u001b[39;49m\u001b[43m(\u001b[49m\u001b[43mcv\u001b[49m\u001b[43m.\u001b[49m\u001b[43msplit\u001b[49m\u001b[43m(\u001b[49m\u001b[43mX\u001b[49m\u001b[43m,\u001b[49m\u001b[43m \u001b[49m\u001b[43my\u001b[49m\u001b[43m,\u001b[49m\u001b[43m \u001b[49m\u001b[43m*\u001b[49m\u001b[43m*\u001b[49m\u001b[43mrouted_params\u001b[49m\u001b[43m.\u001b[49m\u001b[43msplitter\u001b[49m\u001b[43m.\u001b[49m\u001b[43msplit\u001b[49m\u001b[43m)\u001b[49m\u001b[43m)\u001b[49m\u001b[43m,\u001b[49m\n\u001b[32m    985\u001b[39m \u001b[43m    \u001b[49m\u001b[43m)\u001b[49m\n\u001b[32m    986\u001b[39m \u001b[43m\u001b[49m\u001b[43m)\u001b[49m\n\u001b[32m    988\u001b[39m \u001b[38;5;28;01mif\u001b[39;00m \u001b[38;5;28mlen\u001b[39m(out) < \u001b[32m1\u001b[39m:\n\u001b[32m    989\u001b[39m     \u001b[38;5;28;01mraise\u001b[39;00m \u001b[38;5;167;01mValueError\u001b[39;00m(\n\u001b[32m    990\u001b[39m         \u001b[33m\"\u001b[39m\u001b[33mNo fits were performed. \u001b[39m\u001b[33m\"\u001b[39m\n\u001b[32m    991\u001b[39m         \u001b[33m\"\u001b[39m\u001b[33mWas the CV iterator empty? \u001b[39m\u001b[33m\"\u001b[39m\n\u001b[32m    992\u001b[39m         \u001b[33m\"\u001b[39m\u001b[33mWere there no candidates?\u001b[39m\u001b[33m\"\u001b[39m\n\u001b[32m    993\u001b[39m     )\n",
      "\u001b[36mFile \u001b[39m\u001b[32m~\\AppData\\Local\\Programs\\Python\\Python312\\Lib\\site-packages\\sklearn\\utils\\parallel.py:77\u001b[39m, in \u001b[36mParallel.__call__\u001b[39m\u001b[34m(self, iterable)\u001b[39m\n\u001b[32m     72\u001b[39m config = get_config()\n\u001b[32m     73\u001b[39m iterable_with_config = (\n\u001b[32m     74\u001b[39m     (_with_config(delayed_func, config), args, kwargs)\n\u001b[32m     75\u001b[39m     \u001b[38;5;28;01mfor\u001b[39;00m delayed_func, args, kwargs \u001b[38;5;129;01min\u001b[39;00m iterable\n\u001b[32m     76\u001b[39m )\n\u001b[32m---> \u001b[39m\u001b[32m77\u001b[39m \u001b[38;5;28;01mreturn\u001b[39;00m \u001b[38;5;28;43msuper\u001b[39;49m\u001b[43m(\u001b[49m\u001b[43m)\u001b[49m\u001b[43m.\u001b[49m\u001b[34;43m__call__\u001b[39;49m\u001b[43m(\u001b[49m\u001b[43miterable_with_config\u001b[49m\u001b[43m)\u001b[49m\n",
      "\u001b[36mFile \u001b[39m\u001b[32m~\\AppData\\Local\\Programs\\Python\\Python312\\Lib\\site-packages\\joblib\\parallel.py:2007\u001b[39m, in \u001b[36mParallel.__call__\u001b[39m\u001b[34m(self, iterable)\u001b[39m\n\u001b[32m   2001\u001b[39m \u001b[38;5;66;03m# The first item from the output is blank, but it makes the interpreter\u001b[39;00m\n\u001b[32m   2002\u001b[39m \u001b[38;5;66;03m# progress until it enters the Try/Except block of the generator and\u001b[39;00m\n\u001b[32m   2003\u001b[39m \u001b[38;5;66;03m# reaches the first `yield` statement. This starts the asynchronous\u001b[39;00m\n\u001b[32m   2004\u001b[39m \u001b[38;5;66;03m# dispatch of the tasks to the workers.\u001b[39;00m\n\u001b[32m   2005\u001b[39m \u001b[38;5;28mnext\u001b[39m(output)\n\u001b[32m-> \u001b[39m\u001b[32m2007\u001b[39m \u001b[38;5;28;01mreturn\u001b[39;00m output \u001b[38;5;28;01mif\u001b[39;00m \u001b[38;5;28mself\u001b[39m.return_generator \u001b[38;5;28;01melse\u001b[39;00m \u001b[38;5;28;43mlist\u001b[39;49m\u001b[43m(\u001b[49m\u001b[43moutput\u001b[49m\u001b[43m)\u001b[49m\n",
      "\u001b[36mFile \u001b[39m\u001b[32m~\\AppData\\Local\\Programs\\Python\\Python312\\Lib\\site-packages\\joblib\\parallel.py:1650\u001b[39m, in \u001b[36mParallel._get_outputs\u001b[39m\u001b[34m(self, iterator, pre_dispatch)\u001b[39m\n\u001b[32m   1647\u001b[39m     \u001b[38;5;28;01myield\u001b[39;00m\n\u001b[32m   1649\u001b[39m     \u001b[38;5;28;01mwith\u001b[39;00m \u001b[38;5;28mself\u001b[39m._backend.retrieval_context():\n\u001b[32m-> \u001b[39m\u001b[32m1650\u001b[39m         \u001b[38;5;28;01myield from\u001b[39;00m \u001b[38;5;28mself\u001b[39m._retrieve()\n\u001b[32m   1652\u001b[39m \u001b[38;5;28;01mexcept\u001b[39;00m \u001b[38;5;167;01mGeneratorExit\u001b[39;00m:\n\u001b[32m   1653\u001b[39m     \u001b[38;5;66;03m# The generator has been garbage collected before being fully\u001b[39;00m\n\u001b[32m   1654\u001b[39m     \u001b[38;5;66;03m# consumed. This aborts the remaining tasks if possible and warn\u001b[39;00m\n\u001b[32m   1655\u001b[39m     \u001b[38;5;66;03m# the user if necessary.\u001b[39;00m\n\u001b[32m   1656\u001b[39m     \u001b[38;5;28mself\u001b[39m._exception = \u001b[38;5;28;01mTrue\u001b[39;00m\n",
      "\u001b[36mFile \u001b[39m\u001b[32m~\\AppData\\Local\\Programs\\Python\\Python312\\Lib\\site-packages\\joblib\\parallel.py:1762\u001b[39m, in \u001b[36mParallel._retrieve\u001b[39m\u001b[34m(self)\u001b[39m\n\u001b[32m   1757\u001b[39m \u001b[38;5;66;03m# If the next job is not ready for retrieval yet, we just wait for\u001b[39;00m\n\u001b[32m   1758\u001b[39m \u001b[38;5;66;03m# async callbacks to progress.\u001b[39;00m\n\u001b[32m   1759\u001b[39m \u001b[38;5;28;01mif\u001b[39;00m ((\u001b[38;5;28mlen\u001b[39m(\u001b[38;5;28mself\u001b[39m._jobs) == \u001b[32m0\u001b[39m) \u001b[38;5;129;01mor\u001b[39;00m\n\u001b[32m   1760\u001b[39m     (\u001b[38;5;28mself\u001b[39m._jobs[\u001b[32m0\u001b[39m].get_status(\n\u001b[32m   1761\u001b[39m         timeout=\u001b[38;5;28mself\u001b[39m.timeout) == TASK_PENDING)):\n\u001b[32m-> \u001b[39m\u001b[32m1762\u001b[39m     \u001b[43mtime\u001b[49m\u001b[43m.\u001b[49m\u001b[43msleep\u001b[49m\u001b[43m(\u001b[49m\u001b[32;43m0.01\u001b[39;49m\u001b[43m)\u001b[49m\n\u001b[32m   1763\u001b[39m     \u001b[38;5;28;01mcontinue\u001b[39;00m\n\u001b[32m   1765\u001b[39m \u001b[38;5;66;03m# We need to be careful: the job list can be filling up as\u001b[39;00m\n\u001b[32m   1766\u001b[39m \u001b[38;5;66;03m# we empty it and Python list are not thread-safe by\u001b[39;00m\n\u001b[32m   1767\u001b[39m \u001b[38;5;66;03m# default hence the use of the lock\u001b[39;00m\n",
      "\u001b[31mOSError\u001b[39m: [WinError 1450] Insufficient system resources exist to complete the requested service"
     ]
    }
   ],
   "source": [
    "model = xgb(eval_metric = 'logloss', random_state = 33)\n",
    "ratio = len(train_not_clicked) / len(train_clicked)\n",
    "param_dist = {\n",
    "    'scale_pos_weight': [ratio, ratio*0.5, ratio*2],\n",
    "    'max_depth': [3, 5, 7, 9],\n",
    "    'min_child_weight': [1, 3, 5],\n",
    "    'gamma': [0, 0.5, 1, 5],\n",
    "    'subsample': [0.6, 0.8, 1.0],\n",
    "    'colsample_bytree': [0.6, 0.8, 1.0],\n",
    "    'learning_rate': [0.01, 0.05, 0.1, 0.2],\n",
    "    'n_estimators': [100, 300],\n",
    "    'max_delta_step': [1, 5, 10]\n",
    "}\n",
    "\n",
    "# Use F1-score as the scoring metric\n",
    "precision = make_scorer(precision_score)\n",
    "\n",
    "# Randomized Search\n",
    "random_search = RandomizedSearchCV(\n",
    "    estimator=model,\n",
    "    param_distributions=param_dist,\n",
    "    n_iter=100,  # increase for more thorough search\n",
    "    scoring=precision,\n",
    "    cv=3,\n",
    "    verbose=2,\n",
    "    random_state=42,\n",
    "    n_jobs=-1\n",
    ")\n",
    "\n",
    "# Fit search\n",
    "random_search.fit(X_train, y_train)\n",
    "\n",
    "# Best model and parameters\n",
    "print(\"Best Precision score: \", random_search.best_score_)\n",
    "print(\"Best parameters:\\n\", random_search.best_params_)"
   ]
  },
  {
   "cell_type": "code",
   "execution_count": null,
   "id": "20552da5-34ac-4e98-af2d-dac54de3fa8b",
   "metadata": {},
   "outputs": [],
   "source": [
    "# initialize model\n",
    "model = xgb(random_search.best_params_)\n",
    "# fit the model to training set\n",
    "model.fit(X_train, y_train)\n",
    "\n",
    "# predict validation set\n",
    "val_pred = val.copy()\n",
    "y_score = model.predict_proba(X_val)[:,1]\n",
    "y_pred = model.predict(X_val)\n",
    "y_act = val_pred['impression']\n",
    "print_scores(y_act, y_pred, y_score)"
   ]
  },
  {
   "cell_type": "markdown",
   "id": "2d8ab4f8-dbe7-477d-aef5-df7f9d41768d",
   "metadata": {},
   "source": [
    "### Evaluation\n",
    "Using the metrics that the competition used to guage. This allows us to have a general idea of how well our model should perform. The code is gathered from here: https://github.com/msnews/MIND/blob/master/evaluate.py\n",
    "\n",
    "Ranked 1st scores: AUC: 0.7304 | MRR: 0.3770 | nDCG@5: 0.4180 | nDCG@10: 0.4718\n",
    "\n",
    "Ranked 10th scores: AUC: 0.7243\t| MRR: 0.3706 | nDCG@5: 0.4101 | nDCG@10: 0.4644\n",
    "\n",
    "Ranked 50th Scores: AUC: 0.7059\t| MRR: 0.3514 | DCG@5: 0.3847 | nDCG@10: 0.4418"
   ]
  },
  {
   "cell_type": "code",
   "execution_count": null,
   "id": "56ac0e7f-2532-4d91-b2dc-c32f1c83b492",
   "metadata": {},
   "outputs": [],
   "source": [
    "# change to easily run evaluation on any model\n",
    "impressions = val_pred.groupby(by = ['user_id', 'timestamp'])\n",
    "all_y_true = (impressions['impression'].apply(list).reset_index())['impression']\n",
    "all_y_score = (impressions['pred_impression'].apply(list).reset_index())['pred_impression']"
   ]
  },
  {
   "cell_type": "code",
   "execution_count": null,
   "id": "d8ba6430-148c-4a44-9d20-d6b9c2cb5bb6",
   "metadata": {},
   "outputs": [],
   "source": [
    "def dcg_score(y_true, y_score, k=10):\n",
    "    order = np.argsort(y_score)[::-1]\n",
    "    y_true = np.take(y_true, order[:k])\n",
    "    gains = 2 ** y_true - 1\n",
    "    discounts = np.log2(np.arange(len(y_true)) + 2)\n",
    "    return np.sum(gains / discounts)\n",
    "    \n",
    "\n",
    "def ndcg_score(y_true, y_score, k=10):\n",
    "    best = dcg_score(y_true, y_true, k)\n",
    "    actual = dcg_score(y_true, y_score, k)\n",
    "    return actual / best\n",
    "\n",
    "\n",
    "def mrr_score(y_true, y_score):\n",
    "    order = np.argsort(y_score)[::-1]\n",
    "    y_true = np.take(y_true, order)\n",
    "    rr_score = y_true / (np.arange(len(y_true)) + 1)\n",
    "    return np.sum(rr_score) / np.sum(y_true)"
   ]
  },
  {
   "cell_type": "code",
   "execution_count": null,
   "id": "23791355-ac73-42ad-9130-32e4e20b39fb",
   "metadata": {},
   "outputs": [],
   "source": [
    "auc_list = []\n",
    "mrr_list = []\n",
    "ndcg5_list = []\n",
    "ndcg10_list = []\n",
    "\n",
    "for y_true, y_score in zip(all_y_true, all_y_score):\n",
    "    if sum(y_true) == 0:\n",
    "        # No clicked article — skip this impression\n",
    "        continue\n",
    "    \n",
    "    auc_list.append(roc_auc_score(y_true, y_score))\n",
    "    mrr_list.append(mrr_score(y_true, y_score))\n",
    "    ndcg5_list.append(ndcg_score(y_true, y_score, k=5))\n",
    "    ndcg10_list.append(ndcg_score(y_true, y_score, k=10))\n",
    "\n",
    "# Average metrics\n",
    "print(\"AUC: \", sum(auc_list) / len(auc_list))\n",
    "print(\"MRR: \", sum(mrr_list) / len(mrr_list))\n",
    "print(\"nDCG@5: \", sum(ndcg5_list) / len(ndcg5_list))\n",
    "print(\"nDCG@10: \", sum(ndcg10_list) / len(ndcg10_list))"
   ]
  },
  {
   "cell_type": "markdown",
   "id": "3e41f1dd",
   "metadata": {},
   "source": [
    "### best scores : \n",
    "cat+subcat embeddings (18 dim), title embeddings (384)\n",
    "- AUC:  0.6025434736909249\n",
    "- MRR:  0.2611942541800999\n",
    "\n",
    "cat+subcat, title_embeddings (200)\n",
    "- AUC:  0.5934906011364117\n",
    "- MRR:  0.2712393252597269\n",
    "- nDCG@5:  0.2884957793194139\n",
    "- nDCG@10:  0.3503003894574587"
   ]
  },
  {
   "cell_type": "markdown",
   "id": "47071dae-f7ea-4f53-a48d-908bd97ec11a",
   "metadata": {},
   "source": [
    "### Export predictions"
   ]
  },
  {
   "cell_type": "code",
   "execution_count": null,
   "id": "0be839b4-f32d-4536-ac69-d86be29d030c",
   "metadata": {},
   "outputs": [],
   "source": [
    "val_pred.to_csv('val_pred.csv', index = False)"
   ]
  },
  {
   "cell_type": "code",
   "execution_count": null,
   "id": "f9b2ba2e-5cc5-479b-8a28-eafeb387e166",
   "metadata": {},
   "outputs": [],
   "source": [
    "news_embeddings = news_metadata.drop(columns = [cols for cols in news_metadata if cols.startswith('cat_subcat_')])\n",
    "news_embeddings.head()"
   ]
  },
  {
   "cell_type": "code",
   "execution_count": null,
   "id": "6668d782-1a0d-4bd9-8a13-a8424d0ceaf9",
   "metadata": {},
   "outputs": [],
   "source": [
    "news_embeddings.to_csv('news_embeddings.csv', index = False)"
   ]
  },
  {
   "cell_type": "code",
   "execution_count": null,
   "id": "6fcab776-f6ed-4e98-934e-7d082de71976",
   "metadata": {},
   "outputs": [],
   "source": []
  }
 ],
 "metadata": {
  "kernelspec": {
   "display_name": "Python 3 (ipykernel)",
   "language": "python",
   "name": "python3"
  },
  "language_info": {
   "codemirror_mode": {
    "name": "ipython",
    "version": 3
   },
   "file_extension": ".py",
   "mimetype": "text/x-python",
   "name": "python",
   "nbconvert_exporter": "python",
   "pygments_lexer": "ipython3",
   "version": "3.11.5"
  }
 },
 "nbformat": 4,
 "nbformat_minor": 5
}
