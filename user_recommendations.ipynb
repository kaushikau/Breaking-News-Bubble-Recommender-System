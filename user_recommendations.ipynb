{
 "cells": [
  {
   "cell_type": "markdown",
   "id": "946ba7fe-a322-48bc-adb4-5d0fa2b04a5b",
   "metadata": {},
   "source": [
    "# Recommendation System"
   ]
  },
  {
   "cell_type": "code",
   "execution_count": 1,
   "id": "40c524e1-4fcf-4998-b640-c473d08e26c2",
   "metadata": {},
   "outputs": [],
   "source": [
    "import pandas as pd\n",
    "import numpy as np\n",
    "from sklearn.metrics.pairwise import cosine_similarity"
   ]
  },
  {
   "cell_type": "code",
   "execution_count": 2,
   "id": "293be38c-9e5a-40f3-98a5-bd580055959c",
   "metadata": {},
   "outputs": [],
   "source": [
    "# change directory if data is in a different folder\n",
    "import os\n",
    "os.chdir(\"C:/Users/tanmb/Downloads/SJSU/CMPE_256/project/project_data\")"
   ]
  },
  {
   "cell_type": "code",
   "execution_count": 3,
   "id": "5d778bf0-9579-4aab-ace1-b0b8e51a3d10",
   "metadata": {},
   "outputs": [],
   "source": [
    "val_pred = pd.read_csv('val_pred.csv')\n",
    "news_embeddings = pd.read_csv('news_embeddings.csv')\n",
    "news_metadata = pd.read_csv('small_full_news.csv')\n",
    "train_clicked = pd.read_csv('train_clicked.csv')"
   ]
  },
  {
   "cell_type": "code",
   "execution_count": 4,
   "id": "8aa3b796-710d-4d8c-8bca-0cb3f357dca8",
   "metadata": {},
   "outputs": [],
   "source": [
    "news_embeddings = news_embeddings.merge(news_metadata[['news_id', 'category']], on = 'news_id', how = 'left')\n",
    "train_clicked = train_clicked.merge(news_metadata[['news_id', 'category']], on = 'news_id', how = 'left')\n",
    "val_pred = val_pred.merge(news_metadata[['news_id', 'category']], on = 'news_id', how = 'left')"
   ]
  },
  {
   "cell_type": "code",
   "execution_count": 5,
   "id": "62ab198b-48b5-49d4-a03b-8e44a6344822",
   "metadata": {},
   "outputs": [
    {
     "data": {
      "text/html": [
       "<div>\n",
       "<style scoped>\n",
       "    .dataframe tbody tr th:only-of-type {\n",
       "        vertical-align: middle;\n",
       "    }\n",
       "\n",
       "    .dataframe tbody tr th {\n",
       "        vertical-align: top;\n",
       "    }\n",
       "\n",
       "    .dataframe thead th {\n",
       "        text-align: right;\n",
       "    }\n",
       "</style>\n",
       "<table border=\"1\" class=\"dataframe\">\n",
       "  <thead>\n",
       "    <tr style=\"text-align: right;\">\n",
       "      <th></th>\n",
       "      <th>news_id</th>\n",
       "      <th>title_emb_0</th>\n",
       "      <th>title_emb_1</th>\n",
       "      <th>title_emb_2</th>\n",
       "      <th>title_emb_3</th>\n",
       "      <th>title_emb_4</th>\n",
       "      <th>title_emb_5</th>\n",
       "      <th>title_emb_6</th>\n",
       "      <th>title_emb_7</th>\n",
       "      <th>title_emb_8</th>\n",
       "      <th>...</th>\n",
       "      <th>title_emb_191</th>\n",
       "      <th>title_emb_192</th>\n",
       "      <th>title_emb_193</th>\n",
       "      <th>title_emb_194</th>\n",
       "      <th>title_emb_195</th>\n",
       "      <th>title_emb_196</th>\n",
       "      <th>title_emb_197</th>\n",
       "      <th>title_emb_198</th>\n",
       "      <th>title_emb_199</th>\n",
       "      <th>category</th>\n",
       "    </tr>\n",
       "  </thead>\n",
       "  <tbody>\n",
       "    <tr>\n",
       "      <th>0</th>\n",
       "      <td>55528</td>\n",
       "      <td>-0.186653</td>\n",
       "      <td>0.236455</td>\n",
       "      <td>-0.210393</td>\n",
       "      <td>-0.290194</td>\n",
       "      <td>-0.079926</td>\n",
       "      <td>-0.084619</td>\n",
       "      <td>0.008138</td>\n",
       "      <td>-0.093584</td>\n",
       "      <td>-0.036084</td>\n",
       "      <td>...</td>\n",
       "      <td>-0.060976</td>\n",
       "      <td>-0.017067</td>\n",
       "      <td>0.014921</td>\n",
       "      <td>0.001137</td>\n",
       "      <td>0.041048</td>\n",
       "      <td>-0.017283</td>\n",
       "      <td>-0.053397</td>\n",
       "      <td>0.044348</td>\n",
       "      <td>0.010367</td>\n",
       "      <td>lifestyle</td>\n",
       "    </tr>\n",
       "    <tr>\n",
       "      <th>1</th>\n",
       "      <td>19639</td>\n",
       "      <td>-0.089158</td>\n",
       "      <td>0.161629</td>\n",
       "      <td>-0.058451</td>\n",
       "      <td>-0.064467</td>\n",
       "      <td>-0.171379</td>\n",
       "      <td>-0.106990</td>\n",
       "      <td>0.030770</td>\n",
       "      <td>-0.214236</td>\n",
       "      <td>0.046488</td>\n",
       "      <td>...</td>\n",
       "      <td>-0.030919</td>\n",
       "      <td>-0.000426</td>\n",
       "      <td>0.107756</td>\n",
       "      <td>0.053488</td>\n",
       "      <td>-0.021131</td>\n",
       "      <td>-0.007939</td>\n",
       "      <td>-0.011530</td>\n",
       "      <td>0.046534</td>\n",
       "      <td>-0.088146</td>\n",
       "      <td>health</td>\n",
       "    </tr>\n",
       "    <tr>\n",
       "      <th>2</th>\n",
       "      <td>61837</td>\n",
       "      <td>-0.112460</td>\n",
       "      <td>-0.160912</td>\n",
       "      <td>-0.179721</td>\n",
       "      <td>0.194282</td>\n",
       "      <td>-0.131232</td>\n",
       "      <td>-0.134176</td>\n",
       "      <td>0.149837</td>\n",
       "      <td>-0.054741</td>\n",
       "      <td>-0.020564</td>\n",
       "      <td>...</td>\n",
       "      <td>-0.001209</td>\n",
       "      <td>-0.046804</td>\n",
       "      <td>0.021327</td>\n",
       "      <td>-0.006530</td>\n",
       "      <td>-0.014037</td>\n",
       "      <td>0.032238</td>\n",
       "      <td>-0.024075</td>\n",
       "      <td>0.047432</td>\n",
       "      <td>0.002414</td>\n",
       "      <td>news</td>\n",
       "    </tr>\n",
       "    <tr>\n",
       "      <th>3</th>\n",
       "      <td>53526</td>\n",
       "      <td>0.048788</td>\n",
       "      <td>-0.057316</td>\n",
       "      <td>-0.076083</td>\n",
       "      <td>-0.227301</td>\n",
       "      <td>-0.052115</td>\n",
       "      <td>0.118391</td>\n",
       "      <td>0.050027</td>\n",
       "      <td>-0.169648</td>\n",
       "      <td>0.111652</td>\n",
       "      <td>...</td>\n",
       "      <td>-0.010022</td>\n",
       "      <td>-0.011369</td>\n",
       "      <td>-0.065288</td>\n",
       "      <td>0.030645</td>\n",
       "      <td>0.037783</td>\n",
       "      <td>-0.061337</td>\n",
       "      <td>-0.002957</td>\n",
       "      <td>0.004196</td>\n",
       "      <td>0.038869</td>\n",
       "      <td>health</td>\n",
       "    </tr>\n",
       "    <tr>\n",
       "      <th>4</th>\n",
       "      <td>38324</td>\n",
       "      <td>-0.159312</td>\n",
       "      <td>0.067011</td>\n",
       "      <td>-0.027634</td>\n",
       "      <td>0.003047</td>\n",
       "      <td>-0.065959</td>\n",
       "      <td>-0.023923</td>\n",
       "      <td>-0.046621</td>\n",
       "      <td>-0.105488</td>\n",
       "      <td>-0.039912</td>\n",
       "      <td>...</td>\n",
       "      <td>0.068282</td>\n",
       "      <td>-0.041803</td>\n",
       "      <td>-0.015534</td>\n",
       "      <td>0.091072</td>\n",
       "      <td>0.014027</td>\n",
       "      <td>-0.008631</td>\n",
       "      <td>-0.018318</td>\n",
       "      <td>0.030822</td>\n",
       "      <td>-0.004235</td>\n",
       "      <td>health</td>\n",
       "    </tr>\n",
       "  </tbody>\n",
       "</table>\n",
       "<p>5 rows × 202 columns</p>\n",
       "</div>"
      ],
      "text/plain": [
       "   news_id  title_emb_0  title_emb_1  title_emb_2  title_emb_3  title_emb_4  \\\n",
       "0    55528    -0.186653     0.236455    -0.210393    -0.290194    -0.079926   \n",
       "1    19639    -0.089158     0.161629    -0.058451    -0.064467    -0.171379   \n",
       "2    61837    -0.112460    -0.160912    -0.179721     0.194282    -0.131232   \n",
       "3    53526     0.048788    -0.057316    -0.076083    -0.227301    -0.052115   \n",
       "4    38324    -0.159312     0.067011    -0.027634     0.003047    -0.065959   \n",
       "\n",
       "   title_emb_5  title_emb_6  title_emb_7  title_emb_8  ...  title_emb_191  \\\n",
       "0    -0.084619     0.008138    -0.093584    -0.036084  ...      -0.060976   \n",
       "1    -0.106990     0.030770    -0.214236     0.046488  ...      -0.030919   \n",
       "2    -0.134176     0.149837    -0.054741    -0.020564  ...      -0.001209   \n",
       "3     0.118391     0.050027    -0.169648     0.111652  ...      -0.010022   \n",
       "4    -0.023923    -0.046621    -0.105488    -0.039912  ...       0.068282   \n",
       "\n",
       "   title_emb_192  title_emb_193  title_emb_194  title_emb_195  title_emb_196  \\\n",
       "0      -0.017067       0.014921       0.001137       0.041048      -0.017283   \n",
       "1      -0.000426       0.107756       0.053488      -0.021131      -0.007939   \n",
       "2      -0.046804       0.021327      -0.006530      -0.014037       0.032238   \n",
       "3      -0.011369      -0.065288       0.030645       0.037783      -0.061337   \n",
       "4      -0.041803      -0.015534       0.091072       0.014027      -0.008631   \n",
       "\n",
       "   title_emb_197  title_emb_198  title_emb_199   category  \n",
       "0      -0.053397       0.044348       0.010367  lifestyle  \n",
       "1      -0.011530       0.046534      -0.088146     health  \n",
       "2      -0.024075       0.047432       0.002414       news  \n",
       "3      -0.002957       0.004196       0.038869     health  \n",
       "4      -0.018318       0.030822      -0.004235     health  \n",
       "\n",
       "[5 rows x 202 columns]"
      ]
     },
     "execution_count": 5,
     "metadata": {},
     "output_type": "execute_result"
    }
   ],
   "source": [
    "news_embeddings.head()"
   ]
  },
  {
   "cell_type": "code",
   "execution_count": 6,
   "id": "accd17e0-e7e4-4e0d-b136-815d2572245a",
   "metadata": {},
   "outputs": [
    {
     "data": {
      "text/html": [
       "<div>\n",
       "<style scoped>\n",
       "    .dataframe tbody tr th:only-of-type {\n",
       "        vertical-align: middle;\n",
       "    }\n",
       "\n",
       "    .dataframe tbody tr th {\n",
       "        vertical-align: top;\n",
       "    }\n",
       "\n",
       "    .dataframe thead th {\n",
       "        text-align: right;\n",
       "    }\n",
       "</style>\n",
       "<table border=\"1\" class=\"dataframe\">\n",
       "  <thead>\n",
       "    <tr style=\"text-align: right;\">\n",
       "      <th></th>\n",
       "      <th>user_id</th>\n",
       "      <th>timestamp</th>\n",
       "      <th>news_id</th>\n",
       "      <th>impression</th>\n",
       "      <th>category</th>\n",
       "    </tr>\n",
       "  </thead>\n",
       "  <tbody>\n",
       "    <tr>\n",
       "      <th>0</th>\n",
       "      <td>13740</td>\n",
       "      <td>205558</td>\n",
       "      <td>55689</td>\n",
       "      <td>1</td>\n",
       "      <td>sports</td>\n",
       "    </tr>\n",
       "    <tr>\n",
       "      <th>1</th>\n",
       "      <td>91836</td>\n",
       "      <td>324690</td>\n",
       "      <td>17059</td>\n",
       "      <td>1</td>\n",
       "      <td>finance</td>\n",
       "    </tr>\n",
       "    <tr>\n",
       "      <th>2</th>\n",
       "      <td>73700</td>\n",
       "      <td>457308</td>\n",
       "      <td>23814</td>\n",
       "      <td>1</td>\n",
       "      <td>lifestyle</td>\n",
       "    </tr>\n",
       "    <tr>\n",
       "      <th>3</th>\n",
       "      <td>34670</td>\n",
       "      <td>192485</td>\n",
       "      <td>49685</td>\n",
       "      <td>1</td>\n",
       "      <td>music</td>\n",
       "    </tr>\n",
       "    <tr>\n",
       "      <th>4</th>\n",
       "      <td>8125</td>\n",
       "      <td>317481</td>\n",
       "      <td>8400</td>\n",
       "      <td>1</td>\n",
       "      <td>autos</td>\n",
       "    </tr>\n",
       "  </tbody>\n",
       "</table>\n",
       "</div>"
      ],
      "text/plain": [
       "   user_id  timestamp  news_id  impression   category\n",
       "0    13740     205558    55689           1     sports\n",
       "1    91836     324690    17059           1    finance\n",
       "2    73700     457308    23814           1  lifestyle\n",
       "3    34670     192485    49685           1      music\n",
       "4     8125     317481     8400           1      autos"
      ]
     },
     "execution_count": 6,
     "metadata": {},
     "output_type": "execute_result"
    }
   ],
   "source": [
    "train_clicked.head()"
   ]
  },
  {
   "cell_type": "markdown",
   "id": "fe078a8c-4168-4ce6-a6e8-4f61a0c74ee3",
   "metadata": {},
   "source": [
    "## Article Similarities"
   ]
  },
  {
   "cell_type": "code",
   "execution_count": 7,
   "id": "eff9d363-8e6e-4fb2-9501-9381e56802cf",
   "metadata": {},
   "outputs": [],
   "source": [
    "categories = news_embeddings['category'].unique()\n",
    "art_sim = {}\n",
    "for cat in categories :\n",
    "    articles = news_embeddings[news_embeddings['category'] == cat]\n",
    "    labels = articles['news_id']\n",
    "    articles = articles.drop(columns = ['news_id', 'category'])\n",
    "    \n",
    "    sim = cosine_similarity(articles)\n",
    "    sim = pd.DataFrame(sim, index = labels, columns = labels)\n",
    "    \n",
    "    art_sim[cat] = sim    "
   ]
  },
  {
   "cell_type": "code",
   "execution_count": 65,
   "id": "bcd5b3ca-0238-465f-9649-0faaf7e4c1e6",
   "metadata": {},
   "outputs": [
    {
     "data": {
      "text/plain": [
       "np.float64(0.1057327793768996)"
      ]
     },
     "execution_count": 65,
     "metadata": {},
     "output_type": "execute_result"
    }
   ],
   "source": [
    "art_sim['lifestyle'].loc[55528, 7517]"
   ]
  },
  {
   "cell_type": "markdown",
   "id": "112aa2d4-c9b2-4022-b1e8-f541f83cc710",
   "metadata": {},
   "source": [
    "## Top Categories by User\n",
    "If a user does not have enough categories we know they like, we will just recommend through the top categories. "
   ]
  },
  {
   "cell_type": "code",
   "execution_count": 61,
   "id": "a7796465-b25a-4ed1-8c67-e4df0e8d07a0",
   "metadata": {},
   "outputs": [],
   "source": [
    "# get all categories\n",
    "categories = news_metadata['category'].unique()\n",
    "\n",
    "# get category popularity from clicks\n",
    "cat_pop = list(train_clicked.groupby('category')['impression'].count().sort_values(ascending = False).index)\n",
    "\n",
    "# add any categories with no clicks\n",
    "for c in categories :\n",
    "    if c not in cat_pop :\n",
    "        cat_pop.append(c)"
   ]
  },
  {
   "cell_type": "code",
   "execution_count": 63,
   "id": "bd75c883-51d2-4cd8-abd1-c193b95d77c3",
   "metadata": {
    "scrolled": true
   },
   "outputs": [],
   "source": [
    "# get user clicks per category\n",
    "user_cat_counts = train_clicked.groupby(['user_id', 'category'])['impression'].count().reset_index()\n",
    "\n",
    "# rank category popularity for each user\n",
    "user_cat_counts['rank'] = user_cat_counts.groupby('user_id')['impression'].rank(method='first', ascending=False)\n",
    "top_user_cats = user_cat_counts.sort_values(['user_id', 'rank'])\n",
    "\n",
    "# convert categories into list representing preference then store as series\n",
    "user_top_cat = pd.Series(top_user_cats.groupby('user_id')['category'].apply(list).to_dict())"
   ]
  },
  {
   "cell_type": "markdown",
   "id": "9ce4ed92-a7fd-42cc-a56a-e783bdd60be8",
   "metadata": {},
   "source": [
    "## Five Article Recommendatons per User "
   ]
  },
  {
   "cell_type": "code",
   "execution_count": 112,
   "id": "e0e6852b-aea2-4d4c-8dcb-e2b6f046df9c",
   "metadata": {},
   "outputs": [],
   "source": [
    "def rank_articles(poss_arts, clicked, cat) :\n",
    "    sim_scores = []\n",
    "    for a in poss_arts :\n",
    "        similarity = np.mean([art_sim[cat].loc[a, c] for c in clicked])\n",
    "        sim_scores.append([a, similarity])\n",
    "\n",
    "    rankings = pd.DataFrame(sim_scores, columns = ['article', 'similarity']).sort_values(by = 'similarity') \n",
    "    return list(rankings['article'])\n",
    "\n",
    "def search_categories(ranked_categories, articles, clicked, articles_needed = 5) :\n",
    "    thresholds = {'one': [], 'two': [], 'three': []}\n",
    "\n",
    "    for cat in ranked_categories :\n",
    "        cat_click = None if cat not in clicked.index else clicked[cat]\n",
    "        \n",
    "        # threshold 1, 0.6 <= x < 0.7, \n",
    "        arts_1 = articles[(articles['category'] == cat) & (articles['pred_impression'].between(0.6, 0.7, inclusive = 'left'))].sort_values(by = 'pred_impression')\n",
    "        arts_1 = arts_1['news_id']\n",
    "        rank_arts_1 = arts_1 if cat_click is None else rank_articles(arts_1, cat_click, cat)\n",
    "        thresholds['one'].extend(rank_arts_1)\n",
    "        \n",
    "        # threshold 2, 0.5 <= x < 0.6\n",
    "        arts_2 = articles[(articles['category'] == cat) & (articles['pred_impression'].between(0.5, 0.6, inclusive = 'left'))].sort_values(by = 'pred_impression')\n",
    "        arts_2 = arts_2['news_id']\n",
    "        rank_arts_2 = arts_2 if cat_click is None else rank_articles(arts_2, cat_click, cat)\n",
    "        thresholds['two'].extend(rank_arts_2)\n",
    "\n",
    "        # threshold 3, 0.7 <= x\n",
    "        arts_3 = articles[(articles['category'] == cat) & (articles['pred_impression'].between(0.7, 1, inclusive = 'left'))].sort_values(by = 'pred_impression')\n",
    "        arts_3 = arts_3['news_id']\n",
    "        rank_arts_3 = arts_3 if cat_click is None else rank_articles(arts_3, cat_click, cat)\n",
    "        thresholds['three'].extend(rank_arts_3)\n",
    "\n",
    "        if len(thresholds['one']) >= articles_needed :\n",
    "            break\n",
    "\n",
    "    return thresholds\n",
    "\n",
    "def get_recommendations (user, articles) :\n",
    "    cat_rank = cat_pop if user not in user_top_cat.keys() else user_top_cat[user]\n",
    "    clicked = train_clicked[train_clicked['user_id'] == user].groupby('category')['news_id'].apply(list)\n",
    "    recs = []\n",
    "    \n",
    "    # get articles in the users top categories and rank them\n",
    "    user_thresholds = search_categories(cat_rank, articles, clicked)\n",
    "    # go through the different thresholds and add until we get 5 recommendations\n",
    "    for k,v in user_thresholds.items() :\n",
    "        needed = 5 - len(recs)\n",
    "        recs.extend(v[:needed])\n",
    "\n",
    "    if len(recs) == 5 :\n",
    "        return recs\n",
    "\n",
    "    # if not enough articles in user categories, go through popular categories\n",
    "    pop_rank = [x for x in cat_pop if x not in cat_rank]\n",
    "    pop_thresholds = search_categories(pop_rank, articles, clicked, 5 - len(recs))\n",
    "    \n",
    "    for k,v in pop_thresholds.items() :\n",
    "        needed = 5 - len(recs)\n",
    "        recs.extend(v[:needed])\n",
    "    return recs"
   ]
  },
  {
   "cell_type": "code",
   "execution_count": 87,
   "id": "8dbb64ce-dc66-4510-8d37-d78ddf786848",
   "metadata": {},
   "outputs": [
    {
     "data": {
      "text/plain": [
       "count    50000.000000\n",
       "mean        54.819960\n",
       "std         61.763309\n",
       "min          2.000000\n",
       "25%         13.000000\n",
       "50%         33.000000\n",
       "75%         76.000000\n",
       "max       1187.000000\n",
       "Name: impression, dtype: float64"
      ]
     },
     "execution_count": 87,
     "metadata": {},
     "output_type": "execute_result"
    }
   ],
   "source": [
    "val_pred.groupby('user_id')['impression'].count().describe()"
   ]
  },
  {
   "cell_type": "code",
   "execution_count": 88,
   "id": "1b2818a9-fb17-4cb7-a11c-e579ad4ce335",
   "metadata": {},
   "outputs": [],
   "source": [
    "# group by user\n",
    "user_poss_arts = val_pred.groupby('user_id') # possible articles to recommend"
   ]
  },
  {
   "cell_type": "code",
   "execution_count": 113,
   "id": "32f333c9-ebaf-4700-b5cb-adaaae907d82",
   "metadata": {},
   "outputs": [
    {
     "name": "stdout",
     "output_type": "stream",
     "text": [
      "0.10496280918645677\n"
     ]
    }
   ],
   "source": [
    "user_recs = {}\n",
    "act_clicked = 0\n",
    "total = 0\n",
    "for user, art in user_poss_arts :\n",
    "    recs = get_recommendations(user, art)\n",
    "    user_recs[user] = recs\n",
    "    \n",
    "    rec_art = art[art['news_id'].isin(recs)]\n",
    "    act_clicked += rec_art['impression'].sum()\n",
    "    total += len(recs)\n",
    "\n",
    "print(act_clicked / total)"
   ]
  },
  {
   "cell_type": "code",
   "execution_count": 111,
   "id": "b447c588-a742-42fa-b510-45175d065590",
   "metadata": {},
   "outputs": [
    {
     "data": {
      "text/plain": [
       "np.float64(0.10227240990886156)"
      ]
     },
     "execution_count": 111,
     "metadata": {},
     "output_type": "execute_result"
    }
   ],
   "source": [
    "act_clicked / total"
   ]
  },
  {
   "cell_type": "markdown",
   "id": "9abb45ac-5aba-4281-af46-91b97d83ef1b",
   "metadata": {},
   "source": [
    "start at categories, look at top category, take articles that are least similar but they still are predicted to click "
   ]
  },
  {
   "cell_type": "code",
   "execution_count": 13,
   "id": "1d4cc170-554a-4be5-89c9-3c28503435a6",
   "metadata": {},
   "outputs": [
    {
     "data": {
      "text/plain": [
       "count    2.740998e+06\n",
       "mean     3.624721e-01\n",
       "std      1.728962e-01\n",
       "min      7.767049e-03\n",
       "25%      2.272878e-01\n",
       "50%      3.404727e-01\n",
       "75%      4.859801e-01\n",
       "max      9.577069e-01\n",
       "Name: pred_impression, dtype: float64"
      ]
     },
     "execution_count": 13,
     "metadata": {},
     "output_type": "execute_result"
    }
   ],
   "source": [
    "val_pred['pred_impression'].describe()"
   ]
  },
  {
   "cell_type": "code",
   "execution_count": null,
   "id": "8558082a-1486-43c7-9d9d-44035de0e973",
   "metadata": {},
   "outputs": [],
   "source": [
    ".03"
   ]
  }
 ],
 "metadata": {
  "kernelspec": {
   "display_name": "Python 3 (ipykernel)",
   "language": "python",
   "name": "python3"
  },
  "language_info": {
   "codemirror_mode": {
    "name": "ipython",
    "version": 3
   },
   "file_extension": ".py",
   "mimetype": "text/x-python",
   "name": "python",
   "nbconvert_exporter": "python",
   "pygments_lexer": "ipython3",
   "version": "3.11.5"
  }
 },
 "nbformat": 4,
 "nbformat_minor": 5
}
